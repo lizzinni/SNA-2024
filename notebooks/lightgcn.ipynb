{
 "cells": [
  {
   "cell_type": "code",
   "execution_count": 3,
   "outputs": [],
   "source": [
    "import pandas as pd\n",
    "import numpy as np\n",
    "import torch\n",
    "import torch.nn.functional as F\n",
    "from torch_geometric.data import Data\n",
    "from torch_geometric.nn import MessagePassing\n",
    "from torch.nn import Embedding\n",
    "import json\n",
    "import os"
   ],
   "metadata": {
    "collapsed": false,
    "ExecuteTime": {
     "end_time": "2024-12-25T12:38:10.659449Z",
     "start_time": "2024-12-25T12:38:10.655476Z"
    }
   }
  },
  {
   "cell_type": "code",
   "execution_count": 4,
   "outputs": [
    {
     "name": "stdout",
     "output_type": "stream",
     "text": [
      "users_df.shape = (3527, 17)\n",
      "items_df.shape = (17184, 75)\n",
      "reviews_df.shape = (63053, 4)\n"
     ]
    }
   ],
   "source": [
    "DATA_PATH = \"data\"\n",
    "users_df = pd.read_csv(os.path.join(DATA_PATH, \"users.csv\"))\n",
    "items_df = pd.read_csv(os.path.join(DATA_PATH, \"items.csv\"))\n",
    "reviews_df = pd.read_csv(os.path.join(DATA_PATH, \"reviews.csv\"))\n",
    "\n",
    "print(\"users_df.shape =\", users_df.shape)\n",
    "print(\"items_df.shape =\", items_df.shape)\n",
    "print(\"reviews_df.shape =\", reviews_df.shape)"
   ],
   "metadata": {
    "collapsed": false,
    "ExecuteTime": {
     "end_time": "2024-12-25T12:38:11.436619Z",
     "start_time": "2024-12-25T12:38:11.334351Z"
    }
   }
  },
  {
   "cell_type": "code",
   "execution_count": 5,
   "outputs": [
    {
     "name": "stdout",
     "output_type": "stream",
     "text": [
      "num_users = 3527\n",
      "num_items = 17184\n"
     ]
    }
   ],
   "source": [
    "# Уникальные пользователи\n",
    "unique_users = users_df[\"profile_url\"].unique()\n",
    "user2idx = {u: i for i, u in enumerate(unique_users)}\n",
    "num_users = len(user2idx)\n",
    "\n",
    "# Уникальные места\n",
    "unique_items = items_df[\"detail_id\"].unique()\n",
    "item2idx = {it: i for i, it in enumerate(unique_items)}\n",
    "num_items = len(item2idx)\n",
    "\n",
    "print(\"num_users =\", num_users)\n",
    "print(\"num_items =\", num_items)\n",
    "\n",
    "edges_user = []\n",
    "edges_item = []"
   ],
   "metadata": {
    "collapsed": false,
    "ExecuteTime": {
     "end_time": "2024-12-25T12:38:22.365637Z",
     "start_time": "2024-12-25T12:38:22.358212Z"
    }
   }
  },
  {
   "cell_type": "code",
   "execution_count": 6,
   "outputs": [
    {
     "name": "stdout",
     "output_type": "stream",
     "text": [
      "edge_index.shape = torch.Size([2, 125516])\n",
      "data.num_nodes = 20711\n"
     ]
    }
   ],
   "source": [
    "for _, row in reviews_df.iterrows():\n",
    "    user_url = row[\"profile_url\"]\n",
    "    item_id = row[\"detail_id\"]\n",
    "    if user_url in user2idx and item_id in item2idx:\n",
    "        u_idx = user2idx[user_url]          # [0..num_users-1]\n",
    "        i_idx = num_users + item2idx[item_id]  # [num_users..num_users+num_items-1]\n",
    "        edges_user.append(u_idx)\n",
    "        edges_item.append(i_idx)\n",
    "\n",
    "# user->item\n",
    "user_tensor = torch.tensor(edges_user, dtype=torch.long)\n",
    "item_tensor = torch.tensor(edges_item, dtype=torch.long)\n",
    "\n",
    "# Дублируем (item->user) для неориентированного графа\n",
    "edge_user_to_item = torch.stack([user_tensor, item_tensor], dim=0)\n",
    "edge_item_to_user = torch.stack([item_tensor, user_tensor], dim=0)\n",
    "\n",
    "edge_index = torch.cat([edge_user_to_item, edge_item_to_user], dim=1)\n",
    "# shape: (2, 2*E)\n",
    "\n",
    "data = Data(edge_index=edge_index)\n",
    "\n",
    "# Общее число вершин = num_users + num_items\n",
    "data.num_nodes = num_users + num_items\n",
    "\n",
    "print(\"edge_index.shape =\", edge_index.shape)\n",
    "print(\"data.num_nodes =\", data.num_nodes)\n",
    "\n",
    "device = torch.device(\"cuda\" if torch.cuda.is_available() else \"cpu\")"
   ],
   "metadata": {
    "collapsed": false,
    "ExecuteTime": {
     "end_time": "2024-12-25T12:38:41.946098Z",
     "start_time": "2024-12-25T12:38:41.084255Z"
    }
   }
  },
  {
   "cell_type": "code",
   "execution_count": 7,
   "outputs": [],
   "source": [
    "class LightGCNLayer(MessagePassing):\n",
    "    def __init__(self):\n",
    "        super().__init__(aggr='mean')\n",
    "        # LightGCN по сути усредняет соседние эмбеддинги\n",
    "\n",
    "    def forward(self, x, edge_index):\n",
    "        # x: (num_nodes, embed_dim)\n",
    "        # edge_index: (2, E)\n",
    "        return self.propagate(edge_index, x=x)\n",
    "\n",
    "    def message(self, x_j):\n",
    "        # x_j = эмбеддинги соседей\n",
    "        return x_j  # просто возвращаем (без трансформаций)\n",
    "\n",
    "class LightGCN(torch.nn.Module):\n",
    "    def __init__(self, num_users, num_items, embed_dim=64, n_layers=3):\n",
    "        super().__init__()\n",
    "        self.num_users = num_users\n",
    "        self.num_items = num_items\n",
    "        self.embed_dim = embed_dim\n",
    "        self.n_layers = n_layers\n",
    "\n",
    "        # Создаём обучаемые эмбеддинги для всех вершин (user + item)\n",
    "        # (num_users + num_items, embed_dim)\n",
    "        self.embedding = Embedding(num_users + num_items, embed_dim)\n",
    "\n",
    "        # Инициализируем\n",
    "        torch.nn.init.normal_(self.embedding.weight, std=0.1)\n",
    "\n",
    "        # Каждый слой LightGCN - это \"усреднение\" соседей\n",
    "        self.gcn_layers = torch.nn.ModuleList([LightGCNLayer() for _ in range(n_layers)])\n",
    "\n",
    "    def forward(self, edge_index):\n",
    "        x0 = self.embedding.weight  # (num_nodes, embed_dim)\n",
    "        # начальные эмбеддинги - E^(0)\n",
    "\n",
    "        all_x = [x0]\n",
    "\n",
    "        x = x0\n",
    "        for gcn in self.gcn_layers:\n",
    "            x = gcn(x, edge_index)  # (num_nodes, embed_dim)\n",
    "            all_x.append(x)\n",
    "\n",
    "        # LightGCN: суммируем (или усредняем) по всем слоям\n",
    "        # E = E^(0) + E^(1) + ... + E^(n_layers)\n",
    "        final_x = torch.stack(all_x, dim=0).mean(dim=0)  # (num_nodes, embed_dim)\n",
    "        return final_x\n",
    "\n",
    "    def predict_interaction(self, user_emb, item_emb):\n",
    "        # LightGCN обычно делает предсказание = user_emb dot item_emb\n",
    "        return (user_emb * item_emb).sum(dim=1)"
   ],
   "metadata": {
    "collapsed": false,
    "ExecuteTime": {
     "end_time": "2024-12-25T12:39:01.760534Z",
     "start_time": "2024-12-25T12:39:01.757886Z"
    }
   }
  },
  {
   "cell_type": "code",
   "execution_count": 8,
   "outputs": [],
   "source": [
    "import random\n",
    "\n",
    "def sample_pos_neg_batch(edges_user, edges_item, num_users, num_items, batch_size=1024):\n",
    "    idx = np.random.randint(low=0, high=len(edges_user), size=batch_size)\n",
    "    batch_users = []\n",
    "    batch_pos = []\n",
    "    batch_neg = []\n",
    "\n",
    "    for i in idx:\n",
    "        u = edges_user[i]\n",
    "        pos = edges_item[i] - num_users  # local index [0.. num_items-1]\n",
    "        # Сэмплируем случайный neg != pos\n",
    "        while True:\n",
    "            neg = random.randint(0, num_items-1)\n",
    "            if neg != pos:\n",
    "                break\n",
    "        batch_users.append(u)\n",
    "        batch_pos.append(pos)\n",
    "        batch_neg.append(neg)\n",
    "\n",
    "    return (\n",
    "        torch.tensor(batch_users, dtype=torch.long, device=device),\n",
    "        torch.tensor(batch_pos, dtype=torch.long, device=device),\n",
    "        torch.tensor(batch_neg, dtype=torch.long, device=device)\n",
    "    )\n",
    "\n",
    "model = LightGCN(num_users, num_items, embed_dim=64, n_layers=3).to(device)\n",
    "optimizer = torch.optim.Adam(model.parameters(), lr=0.01)\n",
    "\n",
    "E = edge_index.shape[1] // 2  # число уникальных (user->item) рёбер (без дублирования)\n",
    "edges_user_np = np.array(edges_user)\n",
    "edges_item_np = np.array(edges_item)\n",
    "\n",
    "def bpr_loss(user_emb, pos_emb, neg_emb): # BPR loss = -sum( log( sigma( (u dot pos) - (u dot neg) )) )\n",
    "    pos_score = torch.sum(user_emb * pos_emb, dim=1)  # (batch,)\n",
    "    neg_score = torch.sum(user_emb * neg_emb, dim=1)\n",
    "    diff = pos_score - neg_score\n",
    "    return -torch.log(torch.sigmoid(diff)).mean()"
   ],
   "metadata": {
    "collapsed": false,
    "ExecuteTime": {
     "end_time": "2024-12-25T12:39:20.605331Z",
     "start_time": "2024-12-25T12:39:20.560616Z"
    }
   }
  },
  {
   "cell_type": "code",
   "execution_count": 10,
   "outputs": [
    {
     "name": "stdout",
     "output_type": "stream",
     "text": [
      "Epoch 1/5, Loss=0.0376\n",
      "Epoch 2/5, Loss=0.0307\n",
      "Epoch 3/5, Loss=0.0252\n",
      "Epoch 4/5, Loss=0.0204\n",
      "Epoch 5/5, Loss=0.0172\n"
     ]
    }
   ],
   "source": [
    "num_epochs = 5\n",
    "batch_size = 1024\n",
    "samples_per_epoch = 500  # сколько mini-batch за эпоху\n",
    "\n",
    "model.train()\n",
    "for epoch in range(num_epochs):\n",
    "    total_loss = 0.0\n",
    "    for _ in range(samples_per_epoch):\n",
    "        # 1) Сэмплируем (user, pos, neg)\n",
    "        u_batch, pos_batch, neg_batch = sample_pos_neg_batch(\n",
    "            edges_user_np, edges_item_np,\n",
    "            num_users, num_items,\n",
    "            batch_size\n",
    "        )\n",
    "        optimizer.zero_grad()\n",
    "\n",
    "        all_embs = model(data.edge_index)  # (num_nodes, embed_dim)\n",
    "        # user_emb = all_embs[u], item_emb = all_embs[num_users + i]\n",
    "        user_emb = all_embs[u_batch]  # (batch_size, embed_dim)\n",
    "        pos_emb = all_embs[num_users + pos_batch]  # (batch_size, embed_dim)\n",
    "        neg_emb = all_embs[num_users + neg_batch]\n",
    "\n",
    "        # 3) BPR loss\n",
    "        loss_val = bpr_loss(user_emb, pos_emb, neg_emb)\n",
    "        loss_val.backward()\n",
    "        optimizer.step()\n",
    "\n",
    "        total_loss += loss_val.item()\n",
    "    print(f\"Epoch {epoch+1}/{num_epochs}, Loss={total_loss/samples_per_epoch:.4f}\")\n",
    "\n",
    "# Финальные эмбеддинги\n",
    "model.eval()\n",
    "with torch.no_grad():\n",
    "    final_embs = model(data.edge_index)  # (num_users+num_items, embed_dim)\n",
    "\n",
    "test_profile_file = os.path.join(DATA_PATH, \"test_profile_urls.txt\")\n",
    "with open(test_profile_file, \"r\", encoding=\"utf-8\") as f:\n",
    "    test_profiles = [line.strip() for line in f]\n",
    "\n",
    "# Обратный словарь для items\n",
    "idx2item = {v: k for k, v in item2idx.items()}\n",
    "\n",
    "recommendations_dict = {}\n",
    "top_k = 5\n",
    "\n",
    "for p_url in test_profiles:\n",
    "    if p_url not in user2idx:\n",
    "        # пользователь не встречался в train\n",
    "        recommendations_dict[p_url] = []\n",
    "        continue\n",
    "\n",
    "    user_idx = user2idx[p_url]\n",
    "\n",
    "    # Эмбеддинг пользователя\n",
    "    user_emb = final_embs[user_idx].unsqueeze(0)  # (1, embed_dim)\n",
    "\n",
    "    # Эмбеддинги всех items: [num_users.. num_users+num_items-1]\n",
    "    items_global_idx = torch.arange(num_users, num_users + num_items, dtype=torch.long, device=device)\n",
    "    items_emb = final_embs[items_global_idx]  # (num_items, embed_dim)\n",
    "\n",
    "    # Скалярное произведение (1 x embed_dim) dot (num_items x embed_dim) => (num_items,)\n",
    "    scores = torch.sum(user_emb * items_emb, dim=1)\n",
    "\n",
    "    # Сортируем по убыванию\n",
    "    sorted_indices = torch.argsort(scores, descending=True)\n",
    "    top_indices = sorted_indices[:top_k]\n",
    "\n",
    "    recommended_detail_ids = []\n",
    "    for idx_ in top_indices.cpu().numpy():\n",
    "        # idx_ это локальный индекс в [0..num_items-1] относительно items_emb\n",
    "        detail_id = idx2item[idx_]\n",
    "        recommended_detail_ids.append(int(detail_id))\n",
    "\n",
    "    recommendations_dict[p_url] = recommended_detail_ids"
   ],
   "metadata": {
    "collapsed": false,
    "ExecuteTime": {
     "end_time": "2024-12-25T12:42:32.744448Z",
     "start_time": "2024-12-25T12:40:43.774607Z"
    }
   }
  },
  {
   "cell_type": "code",
   "execution_count": 11,
   "outputs": [
    {
     "name": "stdout",
     "output_type": "stream",
     "text": [
      "Готово! Результат записан в recommendations_lightgcn_1.json.\n"
     ]
    }
   ],
   "source": [
    "# Сохраняем в JSON\n",
    "with open(\"recommendations_lightgcn_1.json\", \"w\", encoding=\"utf-8\") as f:\n",
    "    json.dump(recommendations_dict, f, ensure_ascii=False, indent=2)\n",
    "\n",
    "print(\"Готово! Результат записан в recommendations_lightgcn_1.json.\")"
   ],
   "metadata": {
    "collapsed": false,
    "ExecuteTime": {
     "end_time": "2024-12-25T12:43:22.136346Z",
     "start_time": "2024-12-25T12:43:22.130546Z"
    }
   }
  }
 ],
 "metadata": {
  "kernelspec": {
   "display_name": "Python 3",
   "language": "python",
   "name": "python3"
  },
  "language_info": {
   "codemirror_mode": {
    "name": "ipython",
    "version": 2
   },
   "file_extension": ".py",
   "mimetype": "text/x-python",
   "name": "python",
   "nbconvert_exporter": "python",
   "pygments_lexer": "ipython2",
   "version": "2.7.6"
  }
 },
 "nbformat": 4,
 "nbformat_minor": 0
}
