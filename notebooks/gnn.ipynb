{
 "cells": [
  {
   "cell_type": "code",
   "execution_count": 2,
   "outputs": [],
   "source": [
    "import pandas as pd\n",
    "import numpy as np\n",
    "import torch\n",
    "import torch.nn.functional as F\n",
    "from torch_geometric.data import Data\n",
    "from torch_geometric.nn import GCNConv\n",
    "from torch.nn import Linear"
   ],
   "metadata": {
    "collapsed": false,
    "ExecuteTime": {
     "end_time": "2024-12-24T19:06:43.354378Z",
     "start_time": "2024-12-24T19:06:38.741008Z"
    }
   }
  },
  {
   "cell_type": "code",
   "execution_count": 4,
   "outputs": [],
   "source": [
    "items_df = pd.read_csv(\"data/items.csv\")\n",
    "reviews_df = pd.read_csv(\"data/reviews.csv\")\n",
    "users_df = pd.read_csv(\"data/users.csv\")"
   ],
   "metadata": {
    "collapsed": false,
    "ExecuteTime": {
     "end_time": "2024-12-24T19:06:59.701269Z",
     "start_time": "2024-12-24T19:06:59.608710Z"
    }
   }
  },
  {
   "cell_type": "code",
   "execution_count": 5,
   "outputs": [
    {
     "name": "stdout",
     "output_type": "stream",
     "text": [
      "Число пользователей: 3527\n",
      "Число мест: 17184\n"
     ]
    }
   ],
   "source": [
    "# Уникальные пользователи\n",
    "unique_users = users_df['profile_url'].unique()\n",
    "user2idx = {u: i for i, u in enumerate(unique_users)}\n",
    "\n",
    "# Уникальные места\n",
    "unique_items = items_df['detail_id'].unique()\n",
    "item2idx = {it: i for i, it in enumerate(unique_items)}\n",
    "\n",
    "num_users = len(unique_users)\n",
    "num_items = len(unique_items)\n",
    "\n",
    "print(\"Число пользователей:\", num_users)\n",
    "print(\"Число мест:\", num_items)"
   ],
   "metadata": {
    "collapsed": false,
    "ExecuteTime": {
     "end_time": "2024-12-24T19:07:10.101005Z",
     "start_time": "2024-12-24T19:07:10.095933Z"
    }
   }
  },
  {
   "cell_type": "code",
   "execution_count": 6,
   "outputs": [],
   "source": [
    "edges_user = []\n",
    "edges_item = []\n",
    "edge_ratings = []\n",
    "\n",
    "for _, row in reviews_df.iterrows():\n",
    "    user_url = row['profile_url']\n",
    "    item_id = row['detail_id']\n",
    "    mark = row['mark']\n",
    "\n",
    "    if user_url in user2idx and item_id in item2idx:\n",
    "        u_idx = user2idx[user_url]\n",
    "        i_idx = num_users + item2idx[item_id]\n",
    "\n",
    "        edges_user.append(u_idx)\n",
    "        edges_item.append(i_idx)\n",
    "        edge_ratings.append(mark)"
   ],
   "metadata": {
    "collapsed": false,
    "ExecuteTime": {
     "end_time": "2024-12-24T19:07:29.717290Z",
     "start_time": "2024-12-24T19:07:28.894700Z"
    }
   }
  },
  {
   "cell_type": "code",
   "execution_count": 7,
   "outputs": [],
   "source": [
    "# Преобразуем в тензоры\n",
    "edge_index = torch.tensor(\n",
    "    [edges_user + edges_item,\n",
    "     edges_item + edges_user],\n",
    "    dtype=torch.long\n",
    ")\n",
    "\n",
    "# Нам может понадобиться дублировать рёбра в обе стороны (user->item и item->user),\n",
    "# если мы хотим работать с неориентированным графом (обычно для GCN так и делаем).\n",
    "# Для этого мы складываем списки (u->i, i->u).\n",
    "\n",
    "edge_user_to_item = torch.tensor(\n",
    "    [edges_user, edges_item],\n",
    "    dtype=torch.long\n",
    ")\n",
    "edge_item_to_user = torch.tensor(\n",
    "    [edges_item, edges_user],\n",
    "    dtype=torch.long\n",
    ")\n",
    "\n",
    "# Объединим, чтобы получился неориентированный граф\n",
    "edge_index = torch.cat([edge_user_to_item, edge_item_to_user], dim=1)\n",
    "\n",
    "edge_ratings_tensor = torch.tensor(edge_ratings + edge_ratings, dtype=torch.float)\n"
   ],
   "metadata": {
    "collapsed": false,
    "ExecuteTime": {
     "end_time": "2024-12-24T19:07:53.087455Z",
     "start_time": "2024-12-24T19:07:53.076487Z"
    }
   }
  },
  {
   "cell_type": "code",
   "execution_count": 9,
   "outputs": [],
   "source": [
    "users_unified_df = pd.DataFrame({\n",
    "    \"USER_REVIEWER\": users_df[\"REVIEWER\"],\n",
    "    \"USER_PHOTO_UPLOADER\": users_df[\"PHOTO_UPLOADER\"],\n",
    "    \"ITEM_RATING\": 0,\n",
    "    \"ITEM_REVIEWS_COUNT\": 0,\n",
    "    \"ITEM_TAG_PEDESTRIAN\": 0,\n",
    "    \"ITEM_TAG_MULTI_DAY\": 0\n",
    "})\n",
    "\n",
    "items_unified_df = pd.DataFrame({\n",
    "    \"USER_REVIEWER\": 0,\n",
    "    \"USER_PHOTO_UPLOADER\": 0,\n",
    "    \"ITEM_RATING\": items_df[\"rating\"],\n",
    "    \"ITEM_REVIEWS_COUNT\": items_df[\"reviews_count\"],\n",
    "    \"ITEM_TAG_PEDESTRIAN\": items_df[\"tags_Пешеходные экскурсии\"],\n",
    "    \"ITEM_TAG_MULTI_DAY\": items_df[\"tags_Многодневные экскурсии\"]\n",
    "})\n"
   ],
   "metadata": {
    "collapsed": false,
    "ExecuteTime": {
     "end_time": "2024-12-24T19:13:39.537472Z",
     "start_time": "2024-12-24T19:13:39.532795Z"
    }
   }
  },
  {
   "cell_type": "code",
   "execution_count": 10,
   "outputs": [
    {
     "name": "stdout",
     "output_type": "stream",
     "text": [
      "x_users.shape = torch.Size([3527, 6])\n",
      "x_items.shape = torch.Size([17184, 6])\n"
     ]
    }
   ],
   "source": [
    "# Добавляем колонку 'idx' для сортировки\n",
    "users_df[\"idx\"] = users_df[\"profile_url\"].map(user2idx)\n",
    "items_df[\"idx\"] = items_df[\"detail_id\"].map(item2idx)\n",
    "\n",
    "# user-таблица: сортировка\n",
    "users_df_sorted = users_df.sort_values(\"idx\")\n",
    "users_unified_df = users_unified_df.reindex(users_df_sorted.index)\n",
    "users_unified_df = users_unified_df.reset_index(drop=True)\n",
    "\n",
    "# item-таблица: сортировка\n",
    "items_df_sorted = items_df.sort_values(\"idx\")\n",
    "items_unified_df = items_unified_df.reindex(items_df_sorted.index)\n",
    "items_unified_df = items_unified_df.reset_index(drop=True)\n",
    "\n",
    "# Теперь конвертируем в numpy->torch\n",
    "x_users = torch.tensor(users_unified_df.values, dtype=torch.float)\n",
    "x_items = torch.tensor(items_unified_df.values, dtype=torch.float)\n",
    "\n",
    "print(\"x_users.shape =\", x_users.shape)  # (num_users, 6)\n",
    "print(\"x_items.shape =\", x_items.shape)  # (num_items, 6)\n"
   ],
   "metadata": {
    "collapsed": false,
    "ExecuteTime": {
     "end_time": "2024-12-24T19:13:55.713006Z",
     "start_time": "2024-12-24T19:13:55.707484Z"
    }
   }
  },
  {
   "cell_type": "code",
   "execution_count": 11,
   "outputs": [],
   "source": [
    "edges_user = []\n",
    "edges_item = []\n",
    "edge_ratings = []\n",
    "\n",
    "for _, row in reviews_df.iterrows():\n",
    "    user_url = row[\"profile_url\"]\n",
    "    item_id = row[\"detail_id\"]\n",
    "    mark = row[\"mark\"]\n",
    "\n",
    "    if user_url in user2idx and item_id in item2idx:\n",
    "        u_idx = user2idx[user_url]\n",
    "        i_idx = num_users + item2idx[item_id]\n",
    "\n",
    "        edges_user.append(u_idx)\n",
    "        edges_item.append(i_idx)\n",
    "        edge_ratings.append(mark)\n"
   ],
   "metadata": {
    "collapsed": false,
    "ExecuteTime": {
     "end_time": "2024-12-24T19:14:10.581317Z",
     "start_time": "2024-12-24T19:14:09.741771Z"
    }
   }
  },
  {
   "cell_type": "code",
   "execution_count": 12,
   "outputs": [],
   "source": [
    "user_tensor = torch.tensor(edges_user, dtype=torch.long)\n",
    "item_tensor = torch.tensor(edges_item, dtype=torch.long)\n",
    "ratings_tensor = torch.tensor(edge_ratings, dtype=torch.float)\n",
    "\n",
    "# user->item\n",
    "edge_user_to_item = torch.stack([user_tensor, item_tensor], dim=0)\n",
    "# item->user\n",
    "edge_item_to_user = torch.stack([item_tensor, user_tensor], dim=0)\n",
    "\n",
    "# Объединим\n",
    "edge_index = torch.cat([edge_user_to_item, edge_item_to_user], dim=1)\n",
    "edge_attr = torch.cat([ratings_tensor, ratings_tensor], dim=0)  # дублируем\n"
   ],
   "metadata": {
    "collapsed": false,
    "ExecuteTime": {
     "end_time": "2024-12-24T19:14:19.102883Z",
     "start_time": "2024-12-24T19:14:19.098776Z"
    }
   }
  },
  {
   "cell_type": "code",
   "execution_count": 13,
   "outputs": [
    {
     "name": "stdout",
     "output_type": "stream",
     "text": [
      "edge_index.shape = torch.Size([2, 125516])\n",
      "edge_attr.shape  = torch.Size([125516])\n"
     ]
    }
   ],
   "source": [
    "print(\"edge_index.shape =\", edge_index.shape)  # (2, E*2)\n",
    "print(\"edge_attr.shape  =\", edge_attr.shape)   # (E*2,)"
   ],
   "metadata": {
    "collapsed": false,
    "ExecuteTime": {
     "end_time": "2024-12-24T19:14:25.526071Z",
     "start_time": "2024-12-24T19:14:25.522329Z"
    }
   }
  },
  {
   "cell_type": "code",
   "execution_count": 14,
   "outputs": [],
   "source": [
    "x = torch.cat([x_users, x_items], dim=0)\n",
    "data = Data(\n",
    "    x=x,  # (num_users + num_items, num_features)\n",
    "    edge_index=edge_index,  # (2, 2*E) - неориентированный граф\n",
    "    edge_attr=edge_attr     # (2*E,) - оценки\n",
    ")"
   ],
   "metadata": {
    "collapsed": false,
    "ExecuteTime": {
     "end_time": "2024-12-24T19:26:18.980716Z",
     "start_time": "2024-12-24T19:26:18.968109Z"
    }
   }
  },
  {
   "cell_type": "code",
   "execution_count": 15,
   "outputs": [],
   "source": [
    "class GNNRecommender(torch.nn.Module):\n",
    "    def __init__(self, num_features, hidden_dim, out_dim):\n",
    "        super().__init__()\n",
    "        self.conv1 = GCNConv(num_features, hidden_dim)\n",
    "        self.conv2 = GCNConv(hidden_dim, out_dim)\n",
    "        self.predict_layer = Linear(out_dim * 2, 1)  # на вход concat(user_emb, item_emb)\n",
    "\n",
    "    def forward(self, x, edge_index):\n",
    "        # Первый GCN\n",
    "        x = self.conv1(x, edge_index)\n",
    "        x = F.relu(x)\n",
    "        # Второй GCN\n",
    "        x = self.conv2(x, edge_index)\n",
    "        x = F.relu(x)\n",
    "        return x  # вернём эмбеддинги всех вершин\n",
    "\n",
    "    def predict(self, user_emb, item_emb):\n",
    "        concat = torch.cat([user_emb, item_emb], dim=-1)  # (batch_size, 2*out_dim)\n",
    "        return self.predict_layer(concat).view(-1)       # (batch_size,)\n"
   ],
   "metadata": {
    "collapsed": false,
    "ExecuteTime": {
     "end_time": "2024-12-24T19:26:54.307739Z",
     "start_time": "2024-12-24T19:26:54.301406Z"
    }
   }
  },
  {
   "cell_type": "code",
   "execution_count": 16,
   "outputs": [],
   "source": [
    "device = torch.device(\"cuda\" if torch.cuda.is_available() else \"cpu\")\n",
    "model = GNNRecommender(num_features=x.shape[1], hidden_dim=64, out_dim=32).to(device)\n",
    "optimizer = torch.optim.Adam(model.parameters(), lr=0.01)\n",
    "loss_fn = torch.nn.MSELoss()\n",
    "\n",
    "data = data.to(device)"
   ],
   "metadata": {
    "collapsed": false,
    "ExecuteTime": {
     "end_time": "2024-12-24T19:27:02.913093Z",
     "start_time": "2024-12-24T19:27:02.883357Z"
    }
   }
  },
  {
   "cell_type": "code",
   "execution_count": 17,
   "outputs": [
    {
     "name": "stdout",
     "output_type": "stream",
     "text": [
      "Epoch 5, Loss = 223.0350\n",
      "Epoch 10, Loss = 45.9553\n",
      "Epoch 15, Loss = 18.1348\n",
      "Epoch 20, Loss = 18.8392\n"
     ]
    }
   ],
   "source": [
    "model.train()\n",
    "for epoch in range(20):\n",
    "    optimizer.zero_grad()\n",
    "\n",
    "    # Получаем эмбеддинги всех вершин\n",
    "    embeddings = model(data.x, data.edge_index)\n",
    "\n",
    "    # edge_index[0] — это список вершин-источников, edge_index[1] — вершин-получателей\n",
    "    u_nodes = data.edge_index[0]\n",
    "    v_nodes = data.edge_index[1]\n",
    "\n",
    "    # Вытаскиваем эмбеддинги\n",
    "    u_emb = embeddings[u_nodes]\n",
    "    v_emb = embeddings[v_nodes]\n",
    "\n",
    "    # Предсказываем рейтинг\n",
    "    pred_ratings = model.predict(u_emb, v_emb)\n",
    "\n",
    "    # Истинные рейтинги\n",
    "    true_ratings = data.edge_attr\n",
    "\n",
    "    loss = loss_fn(pred_ratings, true_ratings)\n",
    "    loss.backward()\n",
    "    optimizer.step()\n",
    "\n",
    "    if (epoch + 1) % 5 == 0:\n",
    "        print(f\"Epoch {epoch+1}, Loss = {loss.item():.4f}\")\n"
   ],
   "metadata": {
    "collapsed": false,
    "ExecuteTime": {
     "end_time": "2024-12-24T19:27:13.590726Z",
     "start_time": "2024-12-24T19:27:12.489736Z"
    }
   }
  },
  {
   "cell_type": "code",
   "execution_count": 18,
   "outputs": [],
   "source": [
    "model.eval()\n",
    "with torch.no_grad():\n",
    "    all_embeddings = model(data.x, data.edge_index)"
   ],
   "metadata": {
    "collapsed": false,
    "ExecuteTime": {
     "end_time": "2024-12-24T19:27:29.513582Z",
     "start_time": "2024-12-24T19:27:29.490405Z"
    }
   }
  },
  {
   "cell_type": "code",
   "execution_count": 19,
   "outputs": [],
   "source": [
    "test_user_url = \"/Profile/yalmaree\"\n",
    "test_user_idx = user2idx[test_user_url]  # число от 0 до num_users-1\n",
    "test_user_emb = all_embeddings[test_user_idx]  # вектор размером out_dim=32\n"
   ],
   "metadata": {
    "collapsed": false,
    "ExecuteTime": {
     "end_time": "2024-12-24T19:28:44.309725Z",
     "start_time": "2024-12-24T19:28:44.296271Z"
    }
   }
  },
  {
   "cell_type": "code",
   "execution_count": 20,
   "outputs": [],
   "source": [
    "# Места идут с offset = num_users\n",
    "item_indices = torch.arange(num_users, num_users + num_items, dtype=torch.long, device=device)\n",
    "item_embs = all_embeddings[item_indices]\n",
    "\n",
    "# Сформируем батч из user_emb\n",
    "# (num_items, out_dim)\n",
    "test_user_emb_batch = test_user_emb.unsqueeze(0).repeat(item_embs.shape[0], 1)\n",
    "preds = model.predict(test_user_emb_batch, item_embs)\n"
   ],
   "metadata": {
    "collapsed": false,
    "ExecuteTime": {
     "end_time": "2024-12-24T19:28:51.285841Z",
     "start_time": "2024-12-24T19:28:51.272326Z"
    }
   }
  },
  {
   "cell_type": "code",
   "execution_count": 24,
   "outputs": [],
   "source": [
    "sorted_indices = torch.argsort(preds, descending=True)\n",
    "top_k = 5\n",
    "top_k_indices = sorted_indices[:top_k]"
   ],
   "metadata": {
    "collapsed": false,
    "ExecuteTime": {
     "end_time": "2024-12-24T19:33:27.894294Z",
     "start_time": "2024-12-24T19:33:27.888183Z"
    }
   }
  },
  {
   "cell_type": "code",
   "execution_count": 25,
   "outputs": [],
   "source": [
    "recommended_global_indices = item_indices[top_k_indices]"
   ],
   "metadata": {
    "collapsed": false,
    "ExecuteTime": {
     "end_time": "2024-12-24T19:33:36.276065Z",
     "start_time": "2024-12-24T19:33:36.269143Z"
    }
   }
  },
  {
   "cell_type": "code",
   "execution_count": 26,
   "outputs": [
    {
     "name": "stdout",
     "output_type": "stream",
     "text": [
      "Топ-5 рекомендаций для пользователя: /Profile/yalmaree\n",
      "[300623, 2196855, 300367, 547719, 300366]\n"
     ]
    }
   ],
   "source": [
    "idx2item = {v: k for k, v in item2idx.items()}\n",
    "\n",
    "recommended_detail_ids = []\n",
    "for g_idx in recommended_global_indices.cpu().numpy():\n",
    "    # item-индекс\n",
    "    item_local_idx = g_idx - num_users\n",
    "    detail_id = idx2item[item_local_idx]\n",
    "    recommended_detail_ids.append(detail_id)\n",
    "\n",
    "print(\"Топ-5 рекомендаций для пользователя:\", test_user_url)\n",
    "print(recommended_detail_ids)"
   ],
   "metadata": {
    "collapsed": false,
    "ExecuteTime": {
     "end_time": "2024-12-24T19:33:37.252045Z",
     "start_time": "2024-12-24T19:33:37.245600Z"
    }
   }
  },
  {
   "cell_type": "code",
   "execution_count": 34,
   "outputs": [
    {
     "name": "stdout",
     "output_type": "stream",
     "text": [
      "Готово! Результат записан в файл recommendations_gnn.json.\n"
     ]
    }
   ],
   "source": [
    "import pandas as pd\n",
    "import torch\n",
    "import json\n",
    "from torch_geometric.data import Data\n",
    "\n",
    "reviews_test_df = pd.read_csv(\"data/reviews_test.csv\")\n",
    "\n",
    "edges_user_test = []\n",
    "edges_item_test = []\n",
    "edge_ratings_test = []\n",
    "\n",
    "for _, row in reviews_test_df.iterrows():\n",
    "    user_url = row[\"profile_url\"]\n",
    "    item_id = row[\"detail_id\"]\n",
    "    mark = row[\"mark\"]  # предполагаем, что это уже float или int\n",
    "\n",
    "    if user_url in user2idx and item_id in item2idx:\n",
    "        u_idx = user2idx[user_url]        # индекс пользователя\n",
    "        i_idx = num_users + item2idx[item_id]  # индекс места (со сдвигом)\n",
    "\n",
    "        edges_user_test.append(u_idx)\n",
    "        edges_item_test.append(i_idx)\n",
    "        edge_ratings_test.append(mark)\n",
    "\n",
    "# Превращаем списки в тензоры\n",
    "user_tensor_test = torch.tensor(edges_user_test, dtype=torch.long)\n",
    "item_tensor_test = torch.tensor(edges_item_test, dtype=torch.long)\n",
    "ratings_tensor_test = torch.tensor(edge_ratings_test, dtype=torch.float)\n",
    "\n",
    "# Дублируем рёбра user->item и item->user\n",
    "edge_user_to_item_test = torch.stack([user_tensor_test, item_tensor_test], dim=0)\n",
    "edge_item_to_user_test = torch.stack([item_tensor_test, user_tensor_test], dim=0)\n",
    "\n",
    "edge_index_test = torch.cat([edge_user_to_item_test, edge_item_to_user_test], dim=1)\n",
    "edge_attr_test = torch.cat([ratings_tensor_test, ratings_tensor_test], dim=0)\n",
    "\n",
    "data_test = Data(\n",
    "    x=x,  # тот же тензор признаков (пользователи + места), что был при обучении\n",
    "    edge_index=edge_index_test,\n",
    "    edge_attr=edge_attr_test\n",
    ").to(device)\n",
    "\n",
    "model.eval()\n",
    "with torch.no_grad():\n",
    "    embeddings_test = model(data_test.x, data_test.edge_index)\n",
    "\n",
    "# Подготавливаем словарь для получения detail_id по индексу\n",
    "idx2item = {v: k for k, v in item2idx.items()}\n",
    "\n",
    "recommendations_dict = {}  # ключ = profile_url, значение = список detail_id\n",
    "\n",
    "with open(\"data/test_profile_urls.txt\", \"r\", encoding=\"utf-8\") as f:\n",
    "    for line in f:\n",
    "        test_user_url = line.strip()\n",
    "\n",
    "        if test_user_url in user2idx:\n",
    "            test_user_idx = user2idx[test_user_url]\n",
    "\n",
    "            # Эмбеддинг пользователя\n",
    "            test_user_emb = embeddings_test[test_user_idx]\n",
    "\n",
    "            # Индексы всех мест [num_users .. num_users + num_items - 1]\n",
    "            item_indices = torch.arange(\n",
    "                num_users, num_users + num_items,\n",
    "                dtype=torch.long, device=device\n",
    "            )\n",
    "            # Эмбеддинги для всех мест\n",
    "            item_embs = embeddings_test[item_indices]\n",
    "\n",
    "            # Предсказываем рейтинги для всех мест\n",
    "            test_user_emb_batch = test_user_emb.unsqueeze(0).repeat(item_embs.shape[0], 1)\n",
    "            preds = model.predict(test_user_emb_batch, item_embs)\n",
    "\n",
    "            # Сортируем по убыванию, берём топ-10\n",
    "            sorted_indices = torch.argsort(preds, descending=True)\n",
    "            top_k = 5\n",
    "            top_k_indices = sorted_indices[:top_k]\n",
    "\n",
    "            # Переводим индексы в detail_id\n",
    "            recommended_global_indices = item_indices[top_k_indices]\n",
    "            recommended_detail_ids = []\n",
    "            for g_idx in recommended_global_indices.cpu().numpy():\n",
    "                item_local_idx = g_idx - num_users\n",
    "                detail_id = idx2item[item_local_idx]\n",
    "                # Явно приводим к int (чтобы не было np.int64)\n",
    "                recommended_detail_ids.append(int(detail_id))\n",
    "\n",
    "            recommendations_dict[test_user_url] = recommended_detail_ids\n",
    "\n",
    "        else:\n",
    "            # Если profile_url нет в словаре\n",
    "            recommendations_dict[test_user_url] = []\n",
    "\n",
    "with open(\"recommendations_gnn.json\", \"w\", encoding=\"utf-8\") as out_file:\n",
    "    json.dump(recommendations_dict, out_file, ensure_ascii=False, indent=2)\n",
    "\n",
    "print(\"Готово! Результат записан в файл recommendations_gnn.json.\")"
   ],
   "metadata": {
    "collapsed": false,
    "ExecuteTime": {
     "end_time": "2024-12-24T21:07:56.458786Z",
     "start_time": "2024-12-24T21:07:55.282743Z"
    }
   }
  }
 ],
 "metadata": {
  "kernelspec": {
   "display_name": "Python 3",
   "language": "python",
   "name": "python3"
  },
  "language_info": {
   "codemirror_mode": {
    "name": "ipython",
    "version": 2
   },
   "file_extension": ".py",
   "mimetype": "text/x-python",
   "name": "python",
   "nbconvert_exporter": "python",
   "pygments_lexer": "ipython2",
   "version": "2.7.6"
  }
 },
 "nbformat": 4,
 "nbformat_minor": 0
}
