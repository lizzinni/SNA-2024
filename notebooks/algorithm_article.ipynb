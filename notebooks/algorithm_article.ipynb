{
 "cells": [
  {
   "cell_type": "code",
   "execution_count": null,
   "metadata": {
    "collapsed": true
   },
   "outputs": [],
   "source": [
    "import pulp\n",
    "import numpy as np\n",
    "\n",
    "N = 10  # количество точек POI\n",
    "B = 100  # ограничение по времени на маршрут\n",
    "\n",
    "scores = np.random.rand(N)  # случайные оценки для каждой точки POI\n",
    "travel_times = np.random.rand(N, N) * 10  # случайные времена перемещения между точками\n",
    "\n",
    "prob = pulp.LpProblem(\"Maximize_POI_Score\", pulp.LpMaximize)\n",
    "\n",
    "x = pulp.LpVariable.dicts(\"x\", ((i, j) for i in range(N) for j in range(N)), cat=\"Binary\")\n",
    "u = pulp.LpVariable.dicts(\"u\", (i for i in range(N)), lowBound=2, upBound=N, cat=\"Integer\")\n",
    "\n",
    "# максимизация суммы оценок\n",
    "prob += pulp.lpSum([x[i, j] * scores[i] for i in range(1, N-1) for j in range(2, N)])\n",
    "\n",
    "# проверяем, что маршрут начинается с начальной точки и заканчивается конечной точкой\n",
    "prob += pulp.lpSum([x[0, j] for j in range(1, N)]) == 1  # старт с точки 1\n",
    "prob += pulp.lpSum([x[i, N-1] for i in range(N-1)]) == 1  # конец в точке N\n",
    "\n",
    "for k in range(1, N-1):\n",
    "    prob += pulp.lpSum([x[j, k] for j in range(N)]) == pulp.lpSum([x[k, j] for j in range(N)])\n",
    "\n",
    "prob += pulp.lpSum([x[i, j] * travel_times[i][j] for i in range(N) for j in range(N)]) <= B\n",
    "\n",
    "for i in range(1, N):\n",
    "    for j in range(1, N):\n",
    "        if i != j:\n",
    "            prob += u[i] - u[j] + N * x[i, j] <= N - 1\n",
    "\n",
    "prob.solve()\n",
    "print(\"Статус решения:\", pulp.LpStatus[prob.status])\n",
    "print(\"Оптимальный маршрут:\")\n",
    "for i in range(N):\n",
    "    for j in range(N):\n",
    "        if pulp.value(x[i, j]) == 1:\n",
    "            print(f\"От {i} до {j}\")\n",
    "\n",
    "print(\"Максимальная сумма оценок:\", pulp.value(prob.objective))\n"
   ]
  }
 ],
 "metadata": {
  "kernelspec": {
   "display_name": "Python 3",
   "language": "python",
   "name": "python3"
  },
  "language_info": {
   "codemirror_mode": {
    "name": "ipython",
    "version": 2
   },
   "file_extension": ".py",
   "mimetype": "text/x-python",
   "name": "python",
   "nbconvert_exporter": "python",
   "pygments_lexer": "ipython2",
   "version": "2.7.6"
  }
 },
 "nbformat": 4,
 "nbformat_minor": 0
}
