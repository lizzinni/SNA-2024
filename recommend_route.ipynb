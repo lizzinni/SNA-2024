{
 "cells": [
  {
   "cell_type": "code",
   "execution_count": 2,
   "metadata": {
    "collapsed": true,
    "ExecuteTime": {
     "end_time": "2024-11-06T22:36:35.068729Z",
     "start_time": "2024-11-06T22:36:34.968036Z"
    }
   },
   "outputs": [],
   "source": [
    "import pandas as pd\n",
    "import networkx as nx\n",
    "from sklearn.metrics.pairwise import cosine_similarity\n",
    "from sklearn.preprocessing import StandardScaler\n",
    "import numpy as np\n",
    "\n",
    "# Загрузка данных\n",
    "users = pd.read_csv('data/users.csv')\n",
    "items = pd.read_csv('data/items.csv')\n",
    "reviews = pd.read_csv('data/reviews.csv')\n"
   ]
  },
  {
   "cell_type": "code",
   "execution_count": 3,
   "outputs": [],
   "source": [
    "G = nx.Graph()"
   ],
   "metadata": {
    "collapsed": false,
    "ExecuteTime": {
     "end_time": "2024-11-06T22:36:56.336414Z",
     "start_time": "2024-11-06T22:36:56.330476Z"
    }
   }
  },
  {
   "cell_type": "code",
   "execution_count": 4,
   "outputs": [],
   "source": [
    "for _, row in items.iterrows():\n",
    "    G.add_node(row['detail_id'], type='place', name=row['name'], rating=row['rating'])\n",
    "\n",
    "for _, row in reviews.iterrows():\n",
    "    G.add_node(row['profile_url'], type='user')\n",
    "    G.add_edge(row['profile_url'], row['detail_id'], weight=row['mark'])\n",
    "\n",
    "# Добавление рёбер между местами на основе схожести\n",
    "# Формируем матрицу признаков для мест\n",
    "place_features = items[['latitude', 'longitude', 'rating'] +\n",
    "                       [col for col in items.columns if col.startswith('tags_') or col.startswith('cuisines_')]]\n",
    "place_ids = items['detail_id'].values\n",
    "scaler = StandardScaler()\n",
    "place_features_scaled = scaler.fit_transform(place_features.fillna(0))\n",
    "\n",
    "similarity_matrix = cosine_similarity(place_features_scaled)\n",
    "threshold = 0.5\n",
    "\n",
    "for i, place_id1 in enumerate(place_ids):\n",
    "    for j, place_id2 in enumerate(place_ids):\n",
    "        if i != j and similarity_matrix[i, j] > threshold:\n",
    "            G.add_edge(place_id1, place_id2, weight=similarity_matrix[i, j])\n"
   ],
   "metadata": {
    "collapsed": false,
    "ExecuteTime": {
     "end_time": "2024-11-06T22:38:27.470603Z",
     "start_time": "2024-11-06T22:37:38.533932Z"
    }
   }
  },
  {
   "cell_type": "code",
   "execution_count": 5,
   "outputs": [],
   "source": [
    "def recommend_route(user_id, graph, top_n=5):\n",
    "    if user_id not in graph:\n",
    "        return \"Пользователь не найден в графе.\"\n",
    "\n",
    "    user_places = [neighbor for neighbor in graph.neighbors(user_id) if graph.nodes[neighbor]['type'] == 'place']\n",
    "\n",
    "    similar_places = []\n",
    "    for place_id in user_places:\n",
    "        for neighbor in graph.neighbors(place_id):\n",
    "            if graph.nodes[neighbor]['type'] == 'place' and neighbor not in user_places:\n",
    "                similar_places.append((neighbor, graph[place_id][neighbor]['weight']))\n",
    "\n",
    "    similar_places = sorted(similar_places, key=lambda x: -x[1])[:top_n]\n",
    "    recommended_places = [place for place, _ in similar_places]\n",
    "\n",
    "    return recommended_places"
   ],
   "metadata": {
    "collapsed": false,
    "ExecuteTime": {
     "end_time": "2024-11-06T22:41:00.149074Z",
     "start_time": "2024-11-06T22:41:00.144318Z"
    }
   }
  },
  {
   "cell_type": "code",
   "execution_count": 6,
   "outputs": [
    {
     "name": "stdout",
     "output_type": "stream",
     "text": [
      "Рекомендуемые места для пользователя: [12245093, 6977474, 6493701, 27484126, 8477924]\n"
     ]
    }
   ],
   "source": [
    "user_id = '/Profile/yalmaree'\n",
    "recommended_places = recommend_route(user_id, G)\n",
    "print(\"Рекомендуемые места для пользователя:\", recommended_places)"
   ],
   "metadata": {
    "collapsed": false,
    "ExecuteTime": {
     "end_time": "2024-11-06T22:42:44.150305Z",
     "start_time": "2024-11-06T22:42:44.122776Z"
    }
   }
  },
  {
   "cell_type": "code",
   "execution_count": null,
   "outputs": [],
   "source": [],
   "metadata": {
    "collapsed": false
   }
  }
 ],
 "metadata": {
  "kernelspec": {
   "display_name": "Python 3",
   "language": "python",
   "name": "python3"
  },
  "language_info": {
   "codemirror_mode": {
    "name": "ipython",
    "version": 2
   },
   "file_extension": ".py",
   "mimetype": "text/x-python",
   "name": "python",
   "nbconvert_exporter": "python",
   "pygments_lexer": "ipython2",
   "version": "2.7.6"
  }
 },
 "nbformat": 4,
 "nbformat_minor": 0
}
