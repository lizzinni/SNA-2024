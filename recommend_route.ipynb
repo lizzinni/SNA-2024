{
 "cells": [
  {
   "cell_type": "code",
   "execution_count": 1,
   "metadata": {
    "collapsed": true,
    "ExecuteTime": {
     "end_time": "2024-12-24T21:43:00.549760Z",
     "start_time": "2024-12-24T21:42:57.972099Z"
    }
   },
   "outputs": [],
   "source": [
    "import pandas as pd\n",
    "import networkx as nx\n",
    "from sklearn.metrics.pairwise import cosine_similarity\n",
    "from sklearn.preprocessing import StandardScaler\n",
    "import numpy as np\n",
    "\n",
    "# Загрузка данных\n",
    "users = pd.read_csv('data/users.csv')\n",
    "items = pd.read_csv('data/items.csv')\n",
    "reviews = pd.read_csv('data/reviews.csv')\n"
   ]
  },
  {
   "cell_type": "code",
   "execution_count": 2,
   "outputs": [],
   "source": [
    "G = nx.Graph()"
   ],
   "metadata": {
    "collapsed": false,
    "ExecuteTime": {
     "end_time": "2024-12-24T21:43:02.021331Z",
     "start_time": "2024-12-24T21:43:02.016163Z"
    }
   }
  },
  {
   "cell_type": "code",
   "execution_count": 3,
   "outputs": [],
   "source": [
    "for _, row in items.iterrows():\n",
    "    G.add_node(row['detail_id'], type='place', name=row['name'], rating=row['rating'])\n",
    "\n",
    "for _, row in reviews.iterrows():\n",
    "    G.add_node(row['profile_url'], type='user')\n",
    "    G.add_edge(row['profile_url'], row['detail_id'], weight=row['mark'])\n",
    "\n",
    "# Добавление рёбер между местами на основе схожести\n",
    "# Формируем матрицу признаков для мест\n",
    "place_features = items[['latitude', 'longitude', 'rating'] +\n",
    "                       [col for col in items.columns if col.startswith('tags_') or col.startswith('cuisines_')]]\n",
    "place_ids = items['detail_id'].values\n",
    "scaler = StandardScaler()\n",
    "place_features_scaled = scaler.fit_transform(place_features.fillna(0))\n",
    "\n",
    "similarity_matrix = cosine_similarity(place_features_scaled)\n",
    "threshold = 0.5\n",
    "\n",
    "for i, place_id1 in enumerate(place_ids):\n",
    "    for j, place_id2 in enumerate(place_ids):\n",
    "        if i != j and similarity_matrix[i, j] > threshold:\n",
    "            G.add_edge(place_id1, place_id2, weight=similarity_matrix[i, j])\n"
   ],
   "metadata": {
    "collapsed": false,
    "ExecuteTime": {
     "end_time": "2024-12-24T21:43:53.742793Z",
     "start_time": "2024-12-24T21:43:02.815354Z"
    }
   }
  },
  {
   "cell_type": "code",
   "execution_count": 8,
   "outputs": [],
   "source": [
    "def recommend_route(user_id, graph, top_n=5):\n",
    "    if user_id not in graph:\n",
    "        return \"Пользователь не найден в графе.\"\n",
    "\n",
    "    user_places = [neighbor for neighbor in graph.neighbors(user_id) if graph.nodes[neighbor]['type'] == 'place']\n",
    "\n",
    "    similar_places = []\n",
    "    for place_id in user_places:\n",
    "        for neighbor in graph.neighbors(place_id):\n",
    "            if graph.nodes[neighbor]['type'] == 'place' and neighbor not in user_places:\n",
    "                similar_places.append((neighbor, graph[place_id][neighbor]['weight']))\n",
    "\n",
    "    similar_places = sorted(similar_places, key=lambda x: -x[1])[:top_n]\n",
    "    recommended_places = [place for place, _ in similar_places]\n",
    "\n",
    "    return recommended_places"
   ],
   "metadata": {
    "collapsed": false,
    "ExecuteTime": {
     "end_time": "2024-12-24T21:49:32.280374Z",
     "start_time": "2024-12-24T21:49:32.273163Z"
    }
   }
  },
  {
   "cell_type": "code",
   "execution_count": 6,
   "outputs": [
    {
     "name": "stdout",
     "output_type": "stream",
     "text": [
      "Рекомендуемые места для пользователя: [12245093, 6977474, 6493701, 27484126, 8477924]\n"
     ]
    }
   ],
   "source": [
    "user_id = '/Profile/yalmaree'\n",
    "recommended_places = recommend_route(user_id, G)\n",
    "print(\"Рекомендуемые места для пользователя:\", recommended_places)"
   ],
   "metadata": {
    "collapsed": false,
    "ExecuteTime": {
     "end_time": "2024-11-06T22:42:44.150305Z",
     "start_time": "2024-11-06T22:42:44.122776Z"
    }
   }
  },
  {
   "cell_type": "code",
   "execution_count": 9,
   "outputs": [
    {
     "ename": "KeyError",
     "evalue": "'type'",
     "output_type": "error",
     "traceback": [
      "\u001B[0;31m---------------------------------------------------------------------------\u001B[0m",
      "\u001B[0;31mKeyError\u001B[0m                                  Traceback (most recent call last)",
      "Cell \u001B[0;32mIn[9], line 24\u001B[0m\n\u001B[1;32m     22\u001B[0m \u001B[38;5;28;01mfor\u001B[39;00m line \u001B[38;5;129;01min\u001B[39;00m f:\n\u001B[1;32m     23\u001B[0m     user_id \u001B[38;5;241m=\u001B[39m line\u001B[38;5;241m.\u001B[39mstrip()\n\u001B[0;32m---> 24\u001B[0m     top5_places \u001B[38;5;241m=\u001B[39m recommend_route(user_id, G, top_n\u001B[38;5;241m=\u001B[39m\u001B[38;5;241m5\u001B[39m)\n\u001B[1;32m     26\u001B[0m     \u001B[38;5;28;01mif\u001B[39;00m \u001B[38;5;28misinstance\u001B[39m(top5_places, \u001B[38;5;28mstr\u001B[39m):\n\u001B[1;32m     27\u001B[0m         recommendations_dict[user_id] \u001B[38;5;241m=\u001B[39m []\n",
      "Cell \u001B[0;32mIn[8], line 5\u001B[0m, in \u001B[0;36mrecommend_route\u001B[0;34m(user_id, graph, top_n)\u001B[0m\n\u001B[1;32m      2\u001B[0m \u001B[38;5;28;01mif\u001B[39;00m user_id \u001B[38;5;129;01mnot\u001B[39;00m \u001B[38;5;129;01min\u001B[39;00m graph:\n\u001B[1;32m      3\u001B[0m     \u001B[38;5;28;01mreturn\u001B[39;00m \u001B[38;5;124m\"\u001B[39m\u001B[38;5;124mПользователь не найден в графе.\u001B[39m\u001B[38;5;124m\"\u001B[39m\n\u001B[0;32m----> 5\u001B[0m user_places \u001B[38;5;241m=\u001B[39m [neighbor \u001B[38;5;28;01mfor\u001B[39;00m neighbor \u001B[38;5;129;01min\u001B[39;00m graph\u001B[38;5;241m.\u001B[39mneighbors(user_id) \u001B[38;5;28;01mif\u001B[39;00m graph\u001B[38;5;241m.\u001B[39mnodes[neighbor][\u001B[38;5;124m'\u001B[39m\u001B[38;5;124mtype\u001B[39m\u001B[38;5;124m'\u001B[39m] \u001B[38;5;241m==\u001B[39m \u001B[38;5;124m'\u001B[39m\u001B[38;5;124mplace\u001B[39m\u001B[38;5;124m'\u001B[39m]\n\u001B[1;32m      7\u001B[0m similar_places \u001B[38;5;241m=\u001B[39m []\n\u001B[1;32m      8\u001B[0m \u001B[38;5;28;01mfor\u001B[39;00m place_id \u001B[38;5;129;01min\u001B[39;00m user_places:\n",
      "Cell \u001B[0;32mIn[8], line 5\u001B[0m, in \u001B[0;36m<listcomp>\u001B[0;34m(.0)\u001B[0m\n\u001B[1;32m      2\u001B[0m \u001B[38;5;28;01mif\u001B[39;00m user_id \u001B[38;5;129;01mnot\u001B[39;00m \u001B[38;5;129;01min\u001B[39;00m graph:\n\u001B[1;32m      3\u001B[0m     \u001B[38;5;28;01mreturn\u001B[39;00m \u001B[38;5;124m\"\u001B[39m\u001B[38;5;124mПользователь не найден в графе.\u001B[39m\u001B[38;5;124m\"\u001B[39m\n\u001B[0;32m----> 5\u001B[0m user_places \u001B[38;5;241m=\u001B[39m [neighbor \u001B[38;5;28;01mfor\u001B[39;00m neighbor \u001B[38;5;129;01min\u001B[39;00m graph\u001B[38;5;241m.\u001B[39mneighbors(user_id) \u001B[38;5;28;01mif\u001B[39;00m graph\u001B[38;5;241m.\u001B[39mnodes[neighbor][\u001B[38;5;124m'\u001B[39m\u001B[38;5;124mtype\u001B[39m\u001B[38;5;124m'\u001B[39m] \u001B[38;5;241m==\u001B[39m \u001B[38;5;124m'\u001B[39m\u001B[38;5;124mplace\u001B[39m\u001B[38;5;124m'\u001B[39m]\n\u001B[1;32m      7\u001B[0m similar_places \u001B[38;5;241m=\u001B[39m []\n\u001B[1;32m      8\u001B[0m \u001B[38;5;28;01mfor\u001B[39;00m place_id \u001B[38;5;129;01min\u001B[39;00m user_places:\n",
      "\u001B[0;31mKeyError\u001B[0m: 'type'"
     ]
    }
   ],
   "source": [
    "import pandas as pd\n",
    "import json\n",
    "import numpy as np\n",
    "\n",
    "test_reviews = pd.read_csv('data/reviews_test.csv')\n",
    "for _, row in test_reviews.iterrows():\n",
    "    user_url = row['profile_url']\n",
    "    place_id = row['detail_id']\n",
    "    mark = row['mark']\n",
    "\n",
    "    if place_id not in G:\n",
    "        G.add_node(place_id, type='place', name=str(place_id), rating=0)\n",
    "\n",
    "    if user_url not in G:\n",
    "        G.add_node(user_url, type='user')\n",
    "\n",
    "    # Теперь добавляем ребро user->place с весом = mark\n",
    "    G.add_edge(user_url, place_id, weight=mark)\n",
    "\n",
    "recommendations_dict = {}\n",
    "with open('data/test_profile_urls.txt', 'r', encoding='utf-8') as f:\n",
    "    for line in f:\n",
    "        user_id = line.strip()\n",
    "        top5_places = recommend_route(user_id, G, top_n=5)\n",
    "\n",
    "        if isinstance(top5_places, str):\n",
    "            recommendations_dict[user_id] = []\n",
    "        else:\n",
    "            top5_converted = []\n",
    "            for place in top5_places:\n",
    "                if isinstance(place, (np.integer, int)):\n",
    "                    top5_converted.append(int(place))\n",
    "                else:\n",
    "                    top5_converted.append(place)\n",
    "            recommendations_dict[user_id] = top5_converted\n",
    "\n",
    "with open('recommendations_rec_route.json', 'w', encoding='utf-8') as outfile:\n",
    "    json.dump(recommendations_dict, outfile, ensure_ascii=False, indent=2)\n",
    "\n",
    "print(\"Результат сохранён в 'recommendations_rec_route.json'.\")\n"
   ],
   "metadata": {
    "collapsed": false,
    "ExecuteTime": {
     "end_time": "2024-12-24T21:49:35.711186Z",
     "start_time": "2024-12-24T21:49:34.743193Z"
    }
   }
  },
  {
   "cell_type": "code",
   "execution_count": 10,
   "outputs": [
    {
     "name": "stdout",
     "output_type": "stream",
     "text": [
      "Узел без type: 17419620\n",
      "Узел без type: 2559451\n",
      "Узел без type: 10677264\n",
      "Узел без type: 568288\n",
      "Узел без type: 11747885\n",
      "Узел без type: 10044521\n",
      "Узел без type: 15057537\n",
      "Узел без type: 3469339\n"
     ]
    }
   ],
   "source": [
    "for node in G.nodes:\n",
    "    if 'type' not in G.nodes[node]:\n",
    "        print(\"Узел без type:\", node)"
   ],
   "metadata": {
    "collapsed": false,
    "ExecuteTime": {
     "end_time": "2024-12-24T21:52:07.355697Z",
     "start_time": "2024-12-24T21:52:07.351144Z"
    }
   }
  },
  {
   "cell_type": "code",
   "execution_count": 11,
   "outputs": [],
   "source": [
    "nodes_without_type = [n for n in G.nodes if 'type' not in G.nodes[n]]\n",
    "G.remove_nodes_from(nodes_without_type)"
   ],
   "metadata": {
    "collapsed": false,
    "ExecuteTime": {
     "end_time": "2024-12-24T21:52:51.134518Z",
     "start_time": "2024-12-24T21:52:51.129018Z"
    }
   }
  },
  {
   "cell_type": "code",
   "execution_count": 12,
   "outputs": [],
   "source": [
    "for node in G.nodes:\n",
    "    if 'type' not in G.nodes[node]:\n",
    "        print(\"Узел без type:\", node)"
   ],
   "metadata": {
    "collapsed": false,
    "ExecuteTime": {
     "end_time": "2024-12-24T21:52:57.258621Z",
     "start_time": "2024-12-24T21:52:57.248731Z"
    }
   }
  },
  {
   "cell_type": "code",
   "execution_count": 13,
   "outputs": [
    {
     "name": "stdout",
     "output_type": "stream",
     "text": [
      "Результат сохранён в 'recommendations_rec_route.json'.\n"
     ]
    }
   ],
   "source": [
    "import pandas as pd\n",
    "import json\n",
    "import numpy as np\n",
    "\n",
    "test_reviews = pd.read_csv('data/reviews_test.csv')\n",
    "for _, row in test_reviews.iterrows():\n",
    "    user_url = row['profile_url']\n",
    "    place_id = row['detail_id']\n",
    "    mark = row['mark']\n",
    "\n",
    "    if place_id not in G:\n",
    "        G.add_node(place_id, type='place', name=str(place_id), rating=0)\n",
    "\n",
    "    if user_url not in G:\n",
    "        G.add_node(user_url, type='user')\n",
    "\n",
    "    # Теперь добавляем ребро user->place с весом = mark\n",
    "    G.add_edge(user_url, place_id, weight=mark)\n",
    "\n",
    "recommendations_dict = {}\n",
    "with open('data/test_profile_urls.txt', 'r', encoding='utf-8') as f:\n",
    "    for line in f:\n",
    "        user_id = line.strip()\n",
    "        top5_places = recommend_route(user_id, G, top_n=5)\n",
    "\n",
    "        if isinstance(top5_places, str):\n",
    "            recommendations_dict[user_id] = []\n",
    "        else:\n",
    "            top5_converted = []\n",
    "            for place in top5_places:\n",
    "                if isinstance(place, (np.integer, int)):\n",
    "                    top5_converted.append(int(place))\n",
    "                else:\n",
    "                    top5_converted.append(place)\n",
    "            recommendations_dict[user_id] = top5_converted\n",
    "\n",
    "with open('recommendations_rec_route.json', 'w', encoding='utf-8') as outfile:\n",
    "    json.dump(recommendations_dict, outfile, ensure_ascii=False, indent=2)\n",
    "\n",
    "print(\"Результат сохранён в 'recommendations_rec_route.json'.\")"
   ],
   "metadata": {
    "collapsed": false,
    "ExecuteTime": {
     "end_time": "2024-12-24T21:55:18.187729Z",
     "start_time": "2024-12-24T21:53:59.617987Z"
    }
   }
  }
 ],
 "metadata": {
  "kernelspec": {
   "display_name": "Python 3",
   "language": "python",
   "name": "python3"
  },
  "language_info": {
   "codemirror_mode": {
    "name": "ipython",
    "version": 2
   },
   "file_extension": ".py",
   "mimetype": "text/x-python",
   "name": "python",
   "nbconvert_exporter": "python",
   "pygments_lexer": "ipython2",
   "version": "2.7.6"
  }
 },
 "nbformat": 4,
 "nbformat_minor": 0
}
