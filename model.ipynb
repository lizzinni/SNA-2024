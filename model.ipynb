{
 "cells": [
  {
   "cell_type": "code",
   "id": "initial_id",
   "metadata": {
    "collapsed": true,
    "ExecuteTime": {
     "end_time": "2024-12-24T20:06:39.912408Z",
     "start_time": "2024-12-24T20:06:39.809047Z"
    }
   },
   "source": [
    "import pandas as pd\n",
    "\n",
    "items = pd.read_csv('data/items.csv')\n",
    "reviews = pd.read_csv('data/reviews.csv')\n",
    "users = pd.read_csv('data/users.csv')\n",
    "\n",
    "items = items.drop(['name', 'photos', 'WEBSITE', 'PHONE', 'EMAIL', 'schedule', 'latitude', 'longitude'], axis=1)\n",
    "reviews = reviews.drop(['date'], axis=1)"
   ],
   "outputs": [],
   "execution_count": 82
  },
  {
   "metadata": {
    "ExecuteTime": {
     "end_time": "2024-12-24T20:06:39.974353Z",
     "start_time": "2024-12-24T20:06:39.915014Z"
    }
   },
   "cell_type": "code",
   "source": [
    "df = pd.merge(reviews, items, on='detail_id', how='left')\n",
    "df = df.drop(columns=['detail_id'])\n",
    "df = pd.merge(df, users, on='profile_url', how='left')\n",
    "df = df.drop(columns=['profile_url'])"
   ],
   "id": "2b370b7763178733",
   "outputs": [],
   "execution_count": 83
  },
  {
   "metadata": {
    "ExecuteTime": {
     "end_time": "2024-12-24T20:06:40.053525Z",
     "start_time": "2024-12-24T20:06:40.007344Z"
    }
   },
   "cell_type": "code",
   "source": [
    "df = df.sample(frac=1, random_state=42).reset_index(drop=True)\n",
    "\n",
    "print(df['mark'].value_counts())\n",
    "print(len(df))"
   ],
   "id": "fcee2a62a38c5691",
   "outputs": [
    {
     "name": "stdout",
     "output_type": "stream",
     "text": [
      "mark\n",
      "5    32889\n",
      "4    18358\n",
      "3     8259\n",
      "2     2369\n",
      "1     1178\n",
      "Name: count, dtype: int64\n",
      "63053\n"
     ]
    }
   ],
   "execution_count": 84
  },
  {
   "metadata": {
    "ExecuteTime": {
     "end_time": "2024-12-24T20:06:40.087280Z",
     "start_time": "2024-12-24T20:06:40.085299Z"
    }
   },
   "cell_type": "code",
   "source": [
    "from sklearn.linear_model import Lasso\n",
    "from sklearn.model_selection import GridSearchCV\n",
    "\n",
    "param_grid = {\n",
    "    'alpha': [0.01, 0.1, 1, 5, 10, 20, 50, 100]\n",
    "}"
   ],
   "id": "9667380141b221a9",
   "outputs": [],
   "execution_count": 85
  },
  {
   "metadata": {
    "ExecuteTime": {
     "end_time": "2024-12-24T20:06:40.120263Z",
     "start_time": "2024-12-24T20:06:40.117592Z"
    }
   },
   "cell_type": "code",
   "source": [
    "def feature_selection_scorer(estimator, X, y):\n",
    "    y_pred_ = estimator.predict(X)\n",
    "    mse_ = np.mean((y - y_pred_) ** 2)\n",
    "    \n",
    "    features = np.sum(estimator.coef_ != 0)\n",
    "    \n",
    "    return -mse_ + 0.01 * (X.shape[1] - features)"
   ],
   "id": "5567410c1fd1a40b",
   "outputs": [],
   "execution_count": 86
  },
  {
   "metadata": {
    "ExecuteTime": {
     "end_time": "2024-12-24T20:06:42.324216Z",
     "start_time": "2024-12-24T20:06:40.153905Z"
    }
   },
   "cell_type": "code",
   "source": [
    "lasso = Lasso(max_iter=10000)\n",
    "\n",
    "lasso_grid_search = GridSearchCV(\n",
    "    estimator=lasso,\n",
    "    param_grid=param_grid,\n",
    "    scoring=feature_selection_scorer,\n",
    "    cv=5,\n",
    "    verbose=2,\n",
    "    n_jobs=-1\n",
    ")\n",
    "\n",
    "lasso_grid_search.fit(X_train, y_train)\n",
    "\n",
    "best_model = lasso_grid_search.best_estimator_\n",
    "\n",
    "print(\"Best Lasso Parameters:\", lasso_grid_search.best_params_)\n",
    "print(\"Best Lasso Score (Custom):\", lasso_grid_search.best_score_)\n",
    "\n",
    "non_zero_features = np.sum(best_model.coef_ != 0)\n",
    "print(f\"Number of Selected Features: {non_zero_features} out of {X_train.shape[1]}\")\n",
    "\n",
    "y_pred = best_model.predict(X_test)\n",
    "mse = np.mean((y_test - y_pred) ** 2)\n",
    "print(\"Test Mean Squared Error:\", mse)\n",
    "\n",
    "selected_features = pd.DataFrame({\n",
    "    \"Feature\": X_train.columns,\n",
    "    \"Coefficient\": best_model.coef_\n",
    "})\n",
    "print(\"Selected Features and Coefficients:\")\n",
    "print(selected_features[selected_features[\"Coefficient\"] != 0])"
   ],
   "id": "5590c296d4cf3921",
   "outputs": [
    {
     "name": "stdout",
     "output_type": "stream",
     "text": [
      "Fitting 5 folds for each of 8 candidates, totalling 40 fits\n",
      "Best Lasso Parameters: {'alpha': 10}\n",
      "Best Lasso Score (Custom): -0.09572003395149917\n",
      "Number of Selected Features: 4 out of 82\n",
      "Test Mean Squared Error: 0.8669350982198994\n",
      "Selected Features and Coefficients:\n",
      "              Feature  Coefficient\n",
      "1       reviews_count     0.000032\n",
      "2   description_score    -0.000006\n",
      "31          max_price    -0.000003\n",
      "32            ranking    -0.000125\n"
     ]
    }
   ],
   "execution_count": 87
  }
 ],
 "metadata": {
  "kernelspec": {
   "display_name": "Python 3",
   "language": "python",
   "name": "python3"
  },
  "language_info": {
   "codemirror_mode": {
    "name": "ipython",
    "version": 2
   },
   "file_extension": ".py",
   "mimetype": "text/x-python",
   "name": "python",
   "nbconvert_exporter": "python",
   "pygments_lexer": "ipython2",
   "version": "2.7.6"
  }
 },
 "nbformat": 4,
 "nbformat_minor": 5
}
