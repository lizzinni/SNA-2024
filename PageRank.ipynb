{
 "cells": [
  {
   "cell_type": "code",
   "execution_count": 1,
   "metadata": {
    "collapsed": true,
    "ExecuteTime": {
     "end_time": "2024-11-06T23:26:08.258815Z",
     "start_time": "2024-11-06T23:26:07.771658Z"
    }
   },
   "outputs": [],
   "source": [
    "import pandas as pd\n",
    "import networkx as nx\n",
    "\n",
    "users = pd.read_csv('data/users.csv')\n",
    "items = pd.read_csv('data/items.csv')\n",
    "reviews = pd.read_csv('data/reviews.csv')"
   ]
  },
  {
   "cell_type": "code",
   "execution_count": 2,
   "outputs": [],
   "source": [
    "G = nx.DiGraph()"
   ],
   "metadata": {
    "collapsed": false,
    "ExecuteTime": {
     "end_time": "2024-11-06T23:26:22.926367Z",
     "start_time": "2024-11-06T23:26:22.924274Z"
    }
   }
  },
  {
   "cell_type": "code",
   "execution_count": 5,
   "outputs": [],
   "source": [
    "for _, row in items.iterrows():\n",
    "    G.add_node(row['detail_id'], type='place', name=row['name'], rating=row.get('rating', 0))\n",
    "\n",
    "for _, row in users.iterrows():\n",
    "    G.add_node(row['profile_url'], type='user')\n",
    "\n",
    "for _, row in reviews.iterrows():\n",
    "    user = row['profile_url']\n",
    "    place = row['detail_id']\n",
    "    mark = row['mark']\n",
    "\n",
    "    if G.has_node(user) and G.has_node(place):  # Проверяем, что узлы существуют в графе\n",
    "        G.add_edge(user, place, weight=mark)\n",
    "\n",
    "pagerank_values = nx.pagerank(G, alpha=0.85)\n",
    "\n",
    "pagerank_places = {\n",
    "    node: rank for node, rank in pagerank_values.items()\n",
    "    if G.nodes[node].get('type') == 'place'\n",
    "}\n",
    "\n",
    "pagerank_sorted = sorted(pagerank_places.items(), key=lambda x: x[1], reverse=True)[:10]"
   ],
   "metadata": {
    "collapsed": false,
    "ExecuteTime": {
     "end_time": "2024-11-06T23:31:48.363467Z",
     "start_time": "2024-11-06T23:31:47.101276Z"
    }
   }
  },
  {
   "cell_type": "code",
   "execution_count": 10,
   "outputs": [
    {
     "name": "stdout",
     "output_type": "stream",
     "text": [
      "Топ-10 мест по PageRank:\n",
      "Место: Ботанический Сад  Аптекарский Огород, PageRank: 0.0010\n",
      "Место: Выставка достижений народного хозяйства (ВДНХ), PageRank: 0.0007\n",
      "Место: Центральный парк культуры и отдыха им. Горького, PageRank: 0.0007\n",
      "Место: Московский Метрополитен, PageRank: 0.0007\n",
      "Место: Музей космонавтики, PageRank: 0.0007\n",
      "Место: Соборная площадь, PageRank: 0.0007\n",
      "Место: Государственная Третьяковская Галерея, PageRank: 0.0006\n",
      "Место: Парк Сокольники, PageRank: 0.0006\n",
      "Место: Новая Третьяковка, PageRank: 0.0006\n",
      "Место: Москва-Сити, PageRank: 0.0005\n"
     ]
    }
   ],
   "source": [
    "print(\"Топ-10 мест по PageRank:\")\n",
    "for place, rank in pagerank_sorted:\n",
    "    place_name = G.nodes[place]['name']\n",
    "    print(f\"Место: {place_name}, PageRank: {rank:.4f}\")"
   ],
   "metadata": {
    "collapsed": false,
    "ExecuteTime": {
     "end_time": "2024-11-06T23:34:47.683552Z",
     "start_time": "2024-11-06T23:34:47.680776Z"
    }
   }
  }
 ],
 "metadata": {
  "kernelspec": {
   "display_name": "Python 3",
   "language": "python",
   "name": "python3"
  },
  "language_info": {
   "codemirror_mode": {
    "name": "ipython",
    "version": 2
   },
   "file_extension": ".py",
   "mimetype": "text/x-python",
   "name": "python",
   "nbconvert_exporter": "python",
   "pygments_lexer": "ipython2",
   "version": "2.7.6"
  }
 },
 "nbformat": 4,
 "nbformat_minor": 0
}
