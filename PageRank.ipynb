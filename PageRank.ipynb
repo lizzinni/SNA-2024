{
 "cells": [
  {
   "cell_type": "code",
   "execution_count": 3,
   "metadata": {
    "collapsed": true,
    "ExecuteTime": {
     "end_time": "2024-12-24T22:14:07.498776Z",
     "start_time": "2024-12-24T22:14:07.401990Z"
    }
   },
   "outputs": [],
   "source": [
    "import pandas as pd\n",
    "import networkx as nx\n",
    "\n",
    "users = pd.read_csv('data/users.csv')\n",
    "items = pd.read_csv('data/items.csv')\n",
    "reviews = pd.read_csv('data/reviews.csv')"
   ]
  },
  {
   "cell_type": "code",
   "execution_count": 4,
   "outputs": [],
   "source": [
    "G = nx.DiGraph()"
   ],
   "metadata": {
    "collapsed": false,
    "ExecuteTime": {
     "end_time": "2024-12-24T22:14:08.207091Z",
     "start_time": "2024-12-24T22:14:08.200818Z"
    }
   }
  },
  {
   "cell_type": "code",
   "execution_count": 5,
   "outputs": [],
   "source": [
    "for _, row in items.iterrows():\n",
    "    G.add_node(row['detail_id'], type='place', name=row['name'], rating=row.get('rating', 0))\n",
    "\n",
    "for _, row in users.iterrows():\n",
    "    G.add_node(row['profile_url'], type='user')\n",
    "\n",
    "for _, row in reviews.iterrows():\n",
    "    user = row['profile_url']\n",
    "    place = row['detail_id']\n",
    "    mark = row['mark']\n",
    "\n",
    "    if G.has_node(user) and G.has_node(place):  # Проверяем, что узлы существуют в графе\n",
    "        G.add_edge(user, place, weight=mark)\n",
    "\n",
    "pagerank_values = nx.pagerank(G, alpha=0.85)\n",
    "\n",
    "pagerank_places = {\n",
    "    node: rank for node, rank in pagerank_values.items()\n",
    "    if G.nodes[node].get('type') == 'place'\n",
    "}\n",
    "\n",
    "pagerank_sorted = sorted(pagerank_places.items(), key=lambda x: x[1], reverse=True)[:5]"
   ],
   "metadata": {
    "collapsed": false,
    "ExecuteTime": {
     "end_time": "2024-12-24T22:14:10.725154Z",
     "start_time": "2024-12-24T22:14:09.437119Z"
    }
   }
  },
  {
   "cell_type": "code",
   "execution_count": 6,
   "outputs": [
    {
     "name": "stdout",
     "output_type": "stream",
     "text": [
      "Топ-5 мест по PageRank:\n",
      "Место: Ботанический Сад  Аптекарский Огород, PageRank: 0.0015\n",
      "Место: Выставка достижений народного хозяйства (ВДНХ), PageRank: 0.0011\n",
      "Место: Центральный парк культуры и отдыха им. Горького, PageRank: 0.0011\n",
      "Место: Московский Метрополитен, PageRank: 0.0011\n",
      "Место: Музей космонавтики, PageRank: 0.0011\n"
     ]
    }
   ],
   "source": [
    "print(\"Топ-5 мест по PageRank:\")\n",
    "for place, rank in pagerank_sorted:\n",
    "    place_name = G.nodes[place]['name']\n",
    "    print(f\"Место: {place_name}, PageRank: {rank:.4f}\")"
   ],
   "metadata": {
    "collapsed": false,
    "ExecuteTime": {
     "end_time": "2024-12-24T22:14:13.306822Z",
     "start_time": "2024-12-24T22:14:13.301170Z"
    }
   }
  },
  {
   "cell_type": "code",
   "execution_count": 7,
   "outputs": [
    {
     "name": "stdout",
     "output_type": "stream",
     "text": [
      "Готово! Результат сохранён в 'recommendations_pagerank.json'.\n"
     ]
    }
   ],
   "source": [
    "import pandas as pd\n",
    "import networkx as nx\n",
    "import json\n",
    "\n",
    "test_reviews = pd.read_csv('data/reviews_test.csv')\n",
    "\n",
    "for _, row in test_reviews.iterrows():\n",
    "    user = row['profile_url']\n",
    "    place = row['detail_id']\n",
    "    mark = row['mark']\n",
    "\n",
    "    if not G.has_node(user):\n",
    "        G.add_node(user, type='user')\n",
    "\n",
    "    if not G.has_node(place):\n",
    "        # Минимальные атрибуты, чтобы не падать на месте\n",
    "        G.add_node(place, type='place', name=str(place), rating=0)\n",
    "\n",
    "    # Добавляем ребро user->place\n",
    "    G.add_edge(user, place, weight=mark)\n",
    "\n",
    "pagerank_values = nx.pagerank(G, alpha=0.85)\n",
    "\n",
    "pagerank_places = {\n",
    "    node: rank for node, rank in pagerank_values.items()\n",
    "    if G.nodes[node].get('type') == 'place'\n",
    "}\n",
    "\n",
    "pagerank_sorted = sorted(\n",
    "    pagerank_places.items(),\n",
    "    key=lambda x: x[1],\n",
    "    reverse=True\n",
    ")\n",
    "\n",
    "with open('data/test_profile_urls.txt', 'r', encoding='utf-8') as f:\n",
    "    test_users = [line.strip() for line in f]\n",
    "\n",
    "top_n = 5\n",
    "recommendations_dict = {}\n",
    "\n",
    "for user_id in test_users:\n",
    "    top_places = pagerank_sorted[:top_n]  # список кортежей (place_id, rank)\n",
    "\n",
    "    # Сохраняем только сами place_id (detail_id)\n",
    "    recommended_place_ids = []\n",
    "    for place_id, rank_val in top_places:\n",
    "        recommended_place_ids.append(place_id)\n",
    "\n",
    "    recommendations_dict[user_id] = recommended_place_ids\n",
    "\n",
    "with open('recommendations_pagerank.json', 'w', encoding='utf-8') as outfile:\n",
    "    json.dump(recommendations_dict, outfile, ensure_ascii=False, indent=2)\n",
    "\n",
    "print(\"Готово! Результат сохранён в 'recommendations_pagerank.json'.\")\n"
   ],
   "metadata": {
    "collapsed": false,
    "ExecuteTime": {
     "end_time": "2024-12-24T22:14:17.562547Z",
     "start_time": "2024-12-24T22:14:16.590878Z"
    }
   }
  }
 ],
 "metadata": {
  "kernelspec": {
   "display_name": "Python 3",
   "language": "python",
   "name": "python3"
  },
  "language_info": {
   "codemirror_mode": {
    "name": "ipython",
    "version": 2
   },
   "file_extension": ".py",
   "mimetype": "text/x-python",
   "name": "python",
   "nbconvert_exporter": "python",
   "pygments_lexer": "ipython2",
   "version": "2.7.6"
  }
 },
 "nbformat": 4,
 "nbformat_minor": 0
}
