{
 "cells": [
  {
   "cell_type": "code",
   "execution_count": 108,
   "metadata": {},
   "outputs": [],
   "source": [
    "from metrcis import combined_score\n",
    "import pandas as pd\n",
    "import json"
   ]
  },
  {
   "cell_type": "code",
   "execution_count": 109,
   "metadata": {},
   "outputs": [
    {
     "name": "stdout",
     "output_type": "stream",
     "text": [
      "The autoreload extension is already loaded. To reload it, use:\n",
      "  %reload_ext autoreload\n"
     ]
    }
   ],
   "source": [
    "%load_ext autoreload\n",
    "%autoreload 2"
   ]
  },
  {
   "cell_type": "markdown",
   "metadata": {},
   "source": [
    "### Target"
   ]
  },
  {
   "cell_type": "code",
   "execution_count": 110,
   "metadata": {},
   "outputs": [
    {
     "data": {
      "text/html": [
       "<div>\n",
       "<style scoped>\n",
       "    .dataframe tbody tr th:only-of-type {\n",
       "        vertical-align: middle;\n",
       "    }\n",
       "\n",
       "    .dataframe tbody tr th {\n",
       "        vertical-align: top;\n",
       "    }\n",
       "\n",
       "    .dataframe thead th {\n",
       "        text-align: right;\n",
       "    }\n",
       "</style>\n",
       "<table border=\"1\" class=\"dataframe\">\n",
       "  <thead>\n",
       "    <tr style=\"text-align: right;\">\n",
       "      <th></th>\n",
       "      <th>mark</th>\n",
       "      <th>date</th>\n",
       "      <th>profile_url</th>\n",
       "      <th>detail_id</th>\n",
       "    </tr>\n",
       "  </thead>\n",
       "  <tbody>\n",
       "    <tr>\n",
       "      <th>0</th>\n",
       "      <td>4</td>\n",
       "      <td>2024-09-06 00:00:00</td>\n",
       "      <td>/Profile/253marinap</td>\n",
       "      <td>1418748</td>\n",
       "    </tr>\n",
       "    <tr>\n",
       "      <th>1</th>\n",
       "      <td>4</td>\n",
       "      <td>2024-08-26 00:00:00</td>\n",
       "      <td>/Profile/253marinap</td>\n",
       "      <td>6686078</td>\n",
       "    </tr>\n",
       "    <tr>\n",
       "      <th>2</th>\n",
       "      <td>5</td>\n",
       "      <td>2024-08-25 00:00:00</td>\n",
       "      <td>/Profile/253marinap</td>\n",
       "      <td>15083876</td>\n",
       "    </tr>\n",
       "    <tr>\n",
       "      <th>3</th>\n",
       "      <td>5</td>\n",
       "      <td>2024-08-23 00:00:00</td>\n",
       "      <td>/Profile/253marinap</td>\n",
       "      <td>9594542</td>\n",
       "    </tr>\n",
       "    <tr>\n",
       "      <th>4</th>\n",
       "      <td>3</td>\n",
       "      <td>2024-08-19 00:00:00</td>\n",
       "      <td>/Profile/253marinap</td>\n",
       "      <td>10298181</td>\n",
       "    </tr>\n",
       "  </tbody>\n",
       "</table>\n",
       "</div>"
      ],
      "text/plain": [
       "   mark                 date          profile_url  detail_id\n",
       "0     4  2024-09-06 00:00:00  /Profile/253marinap    1418748\n",
       "1     4  2024-08-26 00:00:00  /Profile/253marinap    6686078\n",
       "2     5  2024-08-25 00:00:00  /Profile/253marinap   15083876\n",
       "3     5  2024-08-23 00:00:00  /Profile/253marinap    9594542\n",
       "4     3  2024-08-19 00:00:00  /Profile/253marinap   10298181"
      ]
     },
     "execution_count": 110,
     "metadata": {},
     "output_type": "execute_result"
    }
   ],
   "source": [
    "reviews_test_true = pd.read_csv('reviews_test_true.csv')\n",
    "reviews_test_true.head()"
   ]
  },
  {
   "cell_type": "code",
   "execution_count": 111,
   "metadata": {},
   "outputs": [],
   "source": [
    "def group_details_by_profile(df):\n",
    "    profile_to_details = df.groupby('profile_url')['detail_id'].apply(list).to_dict()\n",
    "    return profile_to_details\n",
    "\n",
    "reviews_test_true_dict = group_details_by_profile(reviews_test_true)"
   ]
  },
  {
   "cell_type": "code",
   "execution_count": 112,
   "metadata": {},
   "outputs": [
    {
     "data": {
      "text/plain": [
       "{'/Profile/0wrainb0w': [10205971, 10234858, 10229444, 10188034, 10147203],\n",
       " '/Profile/121nadyam': [2342045, 8514577, 524833, 9753823, 11893476],\n",
       " '/Profile/2000RIVERSIDE2000': [10447143,\n",
       "  10448151,\n",
       "  10439876,\n",
       "  9983942,\n",
       "  9975382],\n",
       " '/Profile/253marinap': [1418748, 6686078, 15083876, 9594542, 10298181],\n",
       " '/Profile/354andrey': [6494352, 547839, 5776923, 6493554, 6785214],\n",
       " '/Profile/379garryv': [12012566, 6378905, 16726869, 6750854, 11549325],\n",
       " '/Profile/398tatyanap': [300383, 524833, 524791, 574653, 15083873],\n",
       " '/Profile/440nikitab': [6490293, 2561543, 2341889, 541859, 6686078],\n",
       " '/Profile/454luise': [530940, 7363113, 574164, 15347696, 6650405],\n",
       " '/Profile/5021960': [3762041, 2419130, 10431014, 10379451, 13558469],\n",
       " '/Profile/5045_': [7273038, 8680790, 8388913, 9455470, 7912817],\n",
       " '/Profile/525alexanderp': [16669086, 10005289, 300396, 6110458, 739994],\n",
       " '/Profile/580ninay': [15037680, 13002491, 6111665, 2342024, 2569510],\n",
       " '/Profile/689in_ss': [2556183, 7733344, 2557844, 300376, 2560482],\n",
       " '/Profile/742ivanr': [6775013, 10265021, 9975382, 2558477, 8638171],\n",
       " '/Profile/773vasiliym': [11045987, 11921791, 19265523, 3184240, 2342165],\n",
       " '/Profile/81maximt': [23649641, 14988912, 7116513, 691630, 14059493],\n",
       " '/Profile/834alexeyo': [13428173, 6785214, 300623, 11621340, 6493196],\n",
       " '/Profile/872elenak': [2344721, 20249825, 811062, 3654483, 12591119],\n",
       " '/Profile/896gordong': [8776966, 2141443, 19456880, 524833, 12439642],\n",
       " '/Profile/A9518VV_': [6622798, 2342143, 16726360, 15291414, 14102177],\n",
       " '/Profile/Aleksandr_16': [8445306, 300242, 6491783, 524833, 10049898],\n",
       " '/Profile/Aleksey1605': [10517987, 7729910, 565309, 300341, 530940],\n",
       " '/Profile/AlesyaPL': [13002886, 14786928, 8028237, 3770360, 16726360],\n",
       " '/Profile/AlexA683': [13298853, 3766576, 2141444, 12910887, 5077789],\n",
       " '/Profile/AlexSebastyan': [10169963, 3775053, 16701300, 16726869, 3771586],\n",
       " '/Profile/AlexanderPanda': [4547458, 6491913, 10517987, 10483496, 10483490],\n",
       " '/Profile/AlexanderS675': [6492756, 2344873, 2141444, 2561543, 8650776],\n",
       " '/Profile/Alexander_Kudrin': [572195, 13806027, 8069956, 9808518, 6491792],\n",
       " '/Profile/AlexeevIgor': [7927629, 14961645, 21332832, 302506, 300366],\n",
       " '/Profile/Alexey_Ushpalevich': [9978781, 8121501, 7833949, 8028043, 7984019],\n",
       " '/Profile/Allan_Kirby': [8423170, 7153844, 7785302, 14079518, 7940078],\n",
       " '/Profile/Alll888': [2558006, 6491905, 8693481, 7273038, 6977474],\n",
       " '/Profile/An_Alex_Nikon': [547743, 12617996, 7974692, 2342278, 3671557],\n",
       " '/Profile/AnastasiyaStar': [2342098, 2557844, 2553243, 2557746, 6502453],\n",
       " '/Profile/Andrey-Nyk': [300362, 564865, 6494070, 543281, 6492436],\n",
       " '/Profile/AnnaKornilova1203': [3757350,\n",
       "  11961063,\n",
       "  11444886,\n",
       "  10431014,\n",
       "  6984570],\n",
       " '/Profile/BESTMUHAMMAD': [12048683, 3757196, 3762054, 2167027, 8179964],\n",
       " '/Profile/BIOSALON': [3807105, 3777165, 3768325, 3184240, 2349489],\n",
       " '/Profile/Baron_de_Richebourg': [314368, 300368, 300383, 536428, 300583],\n",
       " '/Profile/BrakiWorldTraveler': [300368, 301632, 15117296, 543276, 7202645],\n",
       " '/Profile/BukvaED': [6494303, 6492384, 9740737, 8657824, 8044233],\n",
       " '/Profile/C7309GD_': [691626, 13281793, 10343742, 13558469, 2418263],\n",
       " '/Profile/EfremovaER': [2342098, 20249825, 2562972, 564865, 300376],\n",
       " '/Profile/Elenka_12_2013': [2341949, 8069956, 572195, 547723, 2349444],\n",
       " '/Profile/Elenochka6309': [17380589, 2342077, 2562239, 14862922, 21406566],\n",
       " '/Profile/Franco_R64': [4569243, 300347, 300412, 572195, 547723],\n",
       " '/Profile/GalinaAn': [10662321, 8044216, 6492496, 10130571, 6502658],\n",
       " '/Profile/George_P74': [574440, 8697429, 7906931, 6493757, 2349421],\n",
       " '/Profile/GlobetrotterMSK': [2347531, 5823172, 7170997, 2346915, 7122712],\n",
       " '/Profile/Helen_0705': [12910887, 3771390, 12709053, 17694354, 3392743],\n",
       " '/Profile/I5485NF_': [6491783, 2341979, 530939, 3842655, 8726242],\n",
       " '/Profile/I9333GEmassimilianop': [300368, 301632, 300407, 300648, 306215],\n",
       " '/Profile/IgorTuristik': [3769714, 1475672, 13320548, 17665256, 7912817],\n",
       " '/Profile/Iisusha84': [3355237, 2342098, 2556432, 2557844, 27530567],\n",
       " '/Profile/Insta_natytravel': [2559893, 15083876, 1938857, 8179150, 8647372],\n",
       " '/Profile/IoViaggioLowCost365': [300362, 7927706, 536655, 6484683, 2349447],\n",
       " '/Profile/Iris599': [9466960, 7264141, 6384778, 5005221, 8454961],\n",
       " '/Profile/Irondune': [5112895, 6378905, 17456089, 12339513, 13393030],\n",
       " '/Profile/KGB777': [6492756, 6492276, 7393381, 2559893, 300362],\n",
       " '/Profile/Kerik07': [9748773, 15276772, 15324905, 15276786, 15276777],\n",
       " '/Profile/Kuznetsov_Sergey': [1418692, 23360558, 8044224, 7833942, 7901244],\n",
       " '/Profile/Lara200655': [12082458, 7122712, 6475321, 5549063, 7034619],\n",
       " '/Profile/Lenok-SB': [7751533, 8556426, 8442699, 8464971, 7854363],\n",
       " '/Profile/MDKTX': [3331227, 3772182, 10309441, 12144623, 3769603],\n",
       " '/Profile/Manahov': [21406566, 14832658, 10477743, 12827639, 7052452],\n",
       " '/Profile/MargaritaC252': [2418263, 13374075, 2587303, 2341968, 300242],\n",
       " '/Profile/Marina_Tert': [8638171, 2341907, 7927676, 6502740, 8532228],\n",
       " '/Profile/Maryawandering': [12296228, 12685375, 6493518, 3756894, 1167500],\n",
       " '/Profile/Matroska1009': [306215, 8179150, 6113276, 14132348, 11878717],\n",
       " '/Profile/Melamory2013': [11824775, 13800306, 14125760, 3764701, 6110710],\n",
       " '/Profile/MiAlAnis': [1641282, 7902571, 541859, 300237, 300414],\n",
       " '/Profile/Mikhail211': [7063049, 3469339, 12339513, 11620510, 8411476],\n",
       " '/Profile/Milashechka': [15291414, 811062, 814129, 691626, 12082458],\n",
       " '/Profile/MrHow': [5041195, 3766722, 11426449, 7134689, 2043053],\n",
       " '/Profile/MuscoviteVT': [4959451, 7113139, 2263785, 2342060, 2341979],\n",
       " '/Profile/N3470XS_': [302513, 12439642, 7709443, 7886714, 21142287],\n",
       " '/Profile/NLB-Artem': [575811, 1195304, 3777960, 5538785, 6502442],\n",
       " '/Profile/NOLEGS1987': [14992556, 19611272, 6622798, 14099222, 2343202],\n",
       " '/Profile/Nadine_lv': [10661864, 6419386, 7997394, 306215, 6487610],\n",
       " '/Profile/Nafanya-l': [300392, 3803302, 6493275, 300237, 530939],\n",
       " '/Profile/Nastroyshchik': [8627532, 15057515, 17766476, 7204976, 7396348],\n",
       " '/Profile/Nata005': [6491783, 12101637, 9740737, 8816219, 8532443],\n",
       " '/Profile/Natalia16b': [3764586, 13290985, 6495969, 2467468, 6750854],\n",
       " '/Profile/Natalina24': [8677147, 1641282, 549346, 300345, 5462223],\n",
       " '/Profile/Nilss88': [300362, 4569243, 7066873, 2341975, 10379451],\n",
       " '/Profile/Nixxo35': [13494414, 13800306, 3762041, 16851531, 13558469],\n",
       " '/Profile/OcharovannyyStrannik': [7005467, 2341975, 8677147, 300242, 524773],\n",
       " '/Profile/Oimalah': [12079475, 19658881, 19745701, 3762041, 7394028],\n",
       " '/Profile/Olga0519237': [548938, 5599841, 7031915, 3771850, 10693085],\n",
       " '/Profile/Olya_OlgaY': [10628651, 2557964, 6490492, 2568817, 8453976],\n",
       " '/Profile/OxanaKsu': [6429431, 10378990, 8801836, 2587303, 11893476],\n",
       " '/Profile/P2961CJ_': [11951726, 11951745, 11951806, 11951705, 11948807],\n",
       " '/Profile/Podstrelova': [3757258, 12540822, 3770568, 12336295, 13190639],\n",
       " '/Profile/Q1783KV_': [7029469, 13169025, 8044187, 2456475, 6124806],\n",
       " '/Profile/Rahmatik': [7394028, 6491714, 8556247, 3785407, 7122712],\n",
       " '/Profile/Rimma2015': [2552865, 8728865, 6494287, 6492555, 578791],\n",
       " '/Profile/RufinaK': [300341, 2351758, 12454357, 2342979, 6600005],\n",
       " '/Profile/SV194813': [8801836, 3776846, 2341909, 2561794, 10387852],\n",
       " '/Profile/Strannik123': [300345, 8484369, 565556, 572192, 3333712],\n",
       " '/Profile/Svetlanka_Me': [7056222, 2341975, 6112148, 8677147, 300345],\n",
       " '/Profile/Talant2007': [24041240, 6502440, 6493518, 7351706, 8801836],\n",
       " '/Profile/Tapo4chka': [530939, 3345778, 8468718, 2043053, 7394028],\n",
       " '/Profile/Taty1602': [15514312, 10677045, 536619, 314366, 2341907],\n",
       " '/Profile/TinaN25': [2342024, 11878717, 1101197, 3785407, 8073710],\n",
       " '/Profile/UlyanaInStars': [23322076, 24041240, 14125760, 11924593, 14988912],\n",
       " '/Profile/Unclealec1': [9762094, 15198224, 10594215, 6697586, 12973774],\n",
       " '/Profile/VadimM67': [15514312, 1938857, 19630171, 575080, 8682087],\n",
       " '/Profile/Valeritch': [3777960, 12079475, 6110458, 3320362, 7716290],\n",
       " '/Profile/Valeriy_VAL': [6622798, 10477835, 11982952, 5112895, 13799938],\n",
       " '/Profile/ValyaMoscow37': [7264141, 23649641, 19456880, 10663328, 23322076],\n",
       " '/Profile/VladRyshkus': [6211448, 739979, 7160403, 7115980, 15318891],\n",
       " '/Profile/VladimirAldobaev': [3293046, 1439435, 3770949, 7162440, 19910385],\n",
       " '/Profile/Vladislav2002': [10628651, 2556210, 565309, 6494164, 6490492],\n",
       " '/Profile/Vladrocks': [10524503, 8051565, 2346724, 8353420, 12712600],\n",
       " '/Profile/W4473QA_': [7204976, 2342205, 8007907, 8777676, 8777676],\n",
       " '/Profile/W7946AG_': [15266252, 8281485, 17665522, 15432661, 15291414],\n",
       " '/Profile/Y7417SM_Olga': [11777447, 11777453, 11778227, 11777817, 10685603],\n",
       " '/Profile/_566_13': [8344758, 6112464, 6378905, 2319105, 13005863],\n",
       " '/Profile/_C7575KJ': [25064591, 5028982, 300362, 300418, 3770594],\n",
       " '/Profile/_D6120IQ': [2351758, 7166138, 2569462, 19003856, 4569243],\n",
       " '/Profile/_DenisK_001': [6503003, 6492660, 6493903, 11733875, 11747885],\n",
       " '/Profile/_E8722NB': [13546004, 10676818, 15851054, 19456880, 12079414],\n",
       " '/Profile/_F8969HH': [6502457, 6502452, 10177452, 6492643, 6492355],\n",
       " '/Profile/_J5616GE': [3785407, 6502819, 6429431, 2562262, 2569462],\n",
       " '/Profile/_O2040GW': [2349421, 11747885, 11778227, 10746161, 10448280],\n",
       " '/Profile/_Q3428LB': [23277412, 8514577, 2342318, 300237, 301574],\n",
       " '/Profile/_Q6167BB': [6492809, 6720650, 6494081, 6493761, 6492843],\n",
       " '/Profile/_U4356TS': [12712600, 2328699, 2419130, 19456880, 11921791],\n",
       " '/Profile/_V4468ID': [2562121, 7077124, 23036664, 6502450, 26732119],\n",
       " '/Profile/_X8676UO': [574634, 578791, 6494072, 7084206, 6492074],\n",
       " '/Profile/_Z4939MH': [11867663, 11868124, 11884327, 11733875, 11645056],\n",
       " '/Profile/alexey2612': [10841351, 2342318, 9466409, 6502084, 6787557],\n",
       " '/Profile/amk2f': [22730911, 11893476, 2345360, 11801160, 12048683],\n",
       " '/Profile/andrewmU2655XD': [301484, 3803302, 543276, 7363113, 541859],\n",
       " '/Profile/andreyp950': [314368, 8020486, 12144623, 8683751, 3766441],\n",
       " '/Profile/aniska': [300341, 11800340, 12973774, 9859506, 6494280],\n",
       " '/Profile/annasM9618TO': [7116513, 9859506, 8655624, 12525541, 13290985],\n",
       " '/Profile/asma922018': [524791, 2570698, 2552924, 543281, 4959451],\n",
       " '/Profile/bird_tamer': [2561794, 301257, 547839, 6494352, 8535943],\n",
       " '/Profile/claire_vin': [2587303, 2587303, 4047726, 2419130, 15291414],\n",
       " '/Profile/classic68': [574440, 7906931, 6493757, 2349421, 8697429],\n",
       " '/Profile/darovs': [6492496, 10024357, 6491681, 10234858, 10060023],\n",
       " '/Profile/darya_blinova': [3264981, 5549063, 8070185, 10693085, 7940078],\n",
       " '/Profile/deciofer80': [548239, 302506, 302509, 8445306, 548229],\n",
       " '/Profile/dennisalexandrov1976': [20249825,\n",
       "  2562262,\n",
       "  6939291,\n",
       "  10403950,\n",
       "  13298853],\n",
       " '/Profile/drogilmour': [2342143, 536428, 302509, 300387, 9728153],\n",
       " '/Profile/edwinkwan2016': [10517987, 7812593, 549345, 2263785, 300346],\n",
       " '/Profile/filby_katastrofa': [8007892, 7001502, 7927629, 8358193, 4373778],\n",
       " '/Profile/foreverfor': [8114760, 6111589, 10387852, 8572422, 5041716],\n",
       " '/Profile/forpix': [13357316, 10459143, 6962029, 3776909, 2569206],\n",
       " '/Profile/gavkun': [2263785, 2342056, 302983, 11887810, 524773],\n",
       " '/Profile/gentbrugg': [10596872, 548229, 300623, 6492865, 6755159],\n",
       " '/Profile/geranulis': [2634178, 6502495, 2344856, 3392743, 22730815],\n",
       " '/Profile/hamu5586': [574636, 6494212, 8445224, 547839, 6493765],\n",
       " '/Profile/hrenuk': [2689045, 6439965, 7032300, 6492556, 6492515],\n",
       " '/Profile/igorg410': [565556, 300366, 314366, 15083873, 300366],\n",
       " '/Profile/igorviktorcik': [3770718, 15291414, 14059493, 14102177, 10693085],\n",
       " '/Profile/itacherne': [15244459, 2345286, 8693481, 10596796, 2569608],\n",
       " '/Profile/javierdelgadocastela': [549345, 300383, 524833, 302506, 8445306],\n",
       " '/Profile/jitsiri': [13479115, 300409, 300414, 543068, 8179150],\n",
       " '/Profile/jlabusova': [691615, 14010086, 16701300, 3766628, 12109641],\n",
       " '/Profile/kimnasin': [6503137, 6484683, 7028999, 6493196, 543276],\n",
       " '/Profile/kirilldu': [9983942, 9982367, 6492660, 9883638, 9882826],\n",
       " '/Profile/klaster612': [9708155, 12813157, 7745482, 23981822, 7055684],\n",
       " '/Profile/lomakins': [524833, 2342087, 9570755, 549635, 6492559],\n",
       " '/Profile/michaelmP9679DF': [10343742, 10343742, 10343742, 2343071, 3847872],\n",
       " '/Profile/mischanja': [13298853, 549345, 6560798, 799205, 7011440],\n",
       " '/Profile/mishievaoi': [8726242, 12148937, 7264141, 8572422, 2562262],\n",
       " '/Profile/mnr2001': [13445753, 23802628, 10161361, 7166138, 14251603],\n",
       " '/Profile/mpmail': [541859, 6491695, 549346, 547749, 547723],\n",
       " '/Profile/myarctic': [11921791, 7256714, 10477822, 13290985, 2720620],\n",
       " '/Profile/nataliagertsen': [6559135, 6491783, 574638, 2341975, 4569243],\n",
       " '/Profile/natalytilic': [11621340, 6487610, 10265021, 8514577, 2568798],\n",
       " '/Profile/nikudango': [6494099, 574438, 2561543, 6492436, 8020486],\n",
       " '/Profile/novoskol': [8871620, 2349441, 8556250, 7021580, 8044260],\n",
       " '/Profile/nsinyakova': [6502415, 2342165, 7077124, 2640870, 2555753],\n",
       " '/Profile/olchiko131': [10676818, 9743126, 8070734, 2344551, 8655624],\n",
       " '/Profile/oleg19660320': [12148937, 9743126, 2418263, 15291414, 14971741],\n",
       " '/Profile/onova2014': [524791, 302983, 8464993, 546405, 15070611],\n",
       " '/Profile/panas2009': [300383, 2351741, 302506, 300237, 300387],\n",
       " '/Profile/rysalka_2016': [6492444, 6502402, 6494363, 6925434, 8532443],\n",
       " '/Profile/semenvpopov': [11797423, 3767310, 12148937, 2347436, 796876],\n",
       " '/Profile/sergeyk147': [301574, 12082458, 6781522, 10234858, 14933966],\n",
       " '/Profile/shorik93': [12520829, 2351758, 10663328, 574035, 23802522],\n",
       " '/Profile/smolkin': [10464208, 300583, 8008332, 2689045, 549633],\n",
       " '/Profile/spanspan': [19719444, 19719445, 8588129, 8661081, 13479115],\n",
       " '/Profile/strannik2016': [300341, 6493814, 7393381, 548938, 306215],\n",
       " '/Profile/tinaq_reviews': [16851833, 13281793, 566288, 2141443, 10379451],\n",
       " '/Profile/tripalksmG': [566288, 300242, 302509, 2351750, 9740737],\n",
       " '/Profile/tv_smirnova22': [3320362, 2419130, 13546004, 13546004, 13546004],\n",
       " '/Profile/tydaeda': [2561694, 2562121, 1475672, 691623, 11710134],\n",
       " '/Profile/utro-vecher': [16884405, 10841351, 7052452, 3771691, 3775118],\n",
       " '/Profile/vadimk962': [22480582, 300242, 530918, 7833630, 8007892],\n",
       " '/Profile/vladimirp44': [10168727, 7055679, 6502958, 6492637, 9974343],\n",
       " '/Profile/vladkuz': [3776439, 11710134, 14099222, 10031750, 3766576],\n",
       " '/Profile/vvav': [16800614, 2419130, 2342015, 2689045, 16726869],\n",
       " '/Profile/yajulia': [13281793, 23649641, 23322076, 13281793, 7115980],\n",
       " '/Profile/yavsevremyaem': [23322076, 7122712, 13558469, 10498321, 6211448],\n",
       " '/Profile/yuliay107': [9728153, 6492631, 300421, 8384952, 6492214]}"
      ]
     },
     "execution_count": 112,
     "metadata": {},
     "output_type": "execute_result"
    }
   ],
   "source": [
    "reviews_test_true_dict"
   ]
  },
  {
   "cell_type": "code",
   "execution_count": 113,
   "metadata": {},
   "outputs": [],
   "source": [
    "def calculate_average(data, cnt_empty):\n",
    "    if not data: \n",
    "        return 0\n",
    "    total_sum = sum(data.values()) \n",
    "    print(total_sum)\n",
    "    count = len(data) \n",
    "    print(count)\n",
    "    return total_sum / (count - cnt_empty)"
   ]
  },
  {
   "cell_type": "markdown",
   "metadata": {},
   "source": [
    "### GNN"
   ]
  },
  {
   "cell_type": "code",
   "execution_count": 114,
   "metadata": {},
   "outputs": [],
   "source": [
    "file_path = \"recommendations_gnn.json\"\n",
    "\n",
    "with open(file_path, 'r', encoding='utf-8') as file:\n",
    "    data_gnn = json.load(file)"
   ]
  },
  {
   "cell_type": "code",
   "execution_count": 116,
   "metadata": {},
   "outputs": [
    {
     "name": "stdout",
     "output_type": "stream",
     "text": [
      "Combined Score user /Profile/253marinap: 0.6299219173213028\n",
      "Combined Score user /Profile/Insta_natytravel: 0.635162304519958\n",
      "Combined Score user /Profile/Talant2007: 0.7836706412543687\n",
      "Combined Score user /Profile/smolkin: 0.807961119007224\n",
      "Combined Score user /Profile/W7946AG_: 0.7478057153007153\n",
      "Combined Score user /Profile/sergeyk147: 0.819864581841252\n",
      "Combined Score user /Profile/440nikitab: 0.7522278693370634\n",
      "Combined Score user /Profile/Nastroyshchik: 0.6344804511478476\n",
      "Combined Score user /Profile/Svetlanka_Me: 0.622984719195255\n",
      "Combined Score user /Profile/darovs: 0.5887746494896959\n",
      "Combined Score user /Profile/oleg19660320: 0.26869039397036254\n",
      "Combined Score user /Profile/AlexeevIgor: 0.6449998219345782\n",
      "Combined Score user /Profile/_F8969HH: 0.6408303589446896\n",
      "Combined Score user /Profile/2000RIVERSIDE2000: 0.5900229860553806\n",
      "Combined Score user /Profile/0wrainb0w: 0.5925510373567325\n",
      "Combined Score user /Profile/itacherne: 0.7208186566950043\n",
      "Combined Score user /Profile/Q1783KV_: 0.8289001253504373\n",
      "Combined Score user /Profile/nataliagertsen: 0.6234624488394018\n",
      "Combined Score user /Profile/igorg410: 0.6347782333495603\n",
      "Combined Score user /Profile/vadimk962: 0.760352355234384\n",
      "Combined Score user /Profile/_Z4939MH: 0.6149208123293853\n",
      "Combined Score user /Profile/klaster612: 0.6410470673840712\n",
      "Combined Score user /Profile/580ninay: 0.8692530310327428\n",
      "Combined Score user /Profile/OxanaKsu: 0.8238535073787968\n",
      "Combined Score user /Profile/nikudango: 0.6258959667707443\n",
      "Combined Score user /Profile/Allan_Kirby: 0.8187516544190928\n",
      "Combined Score user /Profile/834alexeyo: 0.8586878060008385\n",
      "Combined Score user /Profile/tydaeda: 0.777001322235839\n",
      "Combined Score user /Profile/Y7417SM_Olga: 0.5490405660727704\n",
      "Combined Score user /Profile/edwinkwan2016: 0.7476178171919917\n",
      "Combined Score user /Profile/gentbrugg: 0.6292403290594246\n",
      "Combined Score user /Profile/GlobetrotterMSK: 0.3747672746738882\n",
      "Combined Score user /Profile/An_Alex_Nikon: 0.6446098266189205\n",
      "Combined Score user /Profile/Unclealec1: 0.8387506403023296\n",
      "Combined Score user /Profile/398tatyanap: 0.7492507768849471\n",
      "Combined Score user /Profile/Taty1602: 0.6307510457670858\n",
      "Combined Score user /Profile/773vasiliym: 0.7669067450084871\n",
      "Combined Score user /Profile/Rahmatik: 0.8086536648250998\n",
      "Combined Score user /Profile/Nixxo35: 0.7469560741842085\n",
      "Combined Score user /Profile/MuscoviteVT: 0.6224043421417845\n",
      "Combined Score user /Profile/drogilmour: 0.7396891052621457\n",
      "Combined Score user /Profile/myarctic: 0.3572452957325946\n",
      "Combined Score user /Profile/semenvpopov: 0.24846837175525371\n",
      "Combined Score user /Profile/OcharovannyyStrannik: 0.7464644870052826\n",
      "Combined Score user /Profile/IoViaggioLowCost365: 0.6222521045390018\n",
      "Combined Score user /Profile/mnr2001: 0.6317431698878407\n",
      "Combined Score user /Profile/P2961CJ_: 0.5188448971744118\n",
      "Combined Score user /Profile/hrenuk: 0.7543083963683791\n",
      "Combined Score user /Profile/andreyp950: 0.8776114041676659\n",
      "Combined Score user /Profile/natalytilic: 0.7596880508157365\n",
      "Combined Score user /Profile/Valeriy_VAL: 0.860710301111387\n",
      "Combined Score user /Profile/asma922018: 0.754952668009528\n",
      "Combined Score user /Profile/896gordong: 0.7800862567897903\n",
      "Combined Score user /Profile/BIOSALON: 0.30430073732341995\n",
      "Combined Score user /Profile/Matroska1009: 0.8203766657924344\n",
      "Combined Score user /Profile/_O2040GW: 0.5840550937944413\n",
      "Combined Score user /Profile/vladkuz: 0.35830504693091314\n",
      "Combined Score user /Profile/Alexander_Kudrin: 0.7553528718544978\n",
      "Combined Score user /Profile/Milashechka: 0.17987102515258016\n",
      "Combined Score user /Profile/Kuznetsov_Sergey: 0.636158469116681\n",
      "Combined Score user /Profile/5045_: 0.61862608896376\n",
      "Combined Score user /Profile/AlexanderS675: 0.7533697762425232\n",
      "Combined Score user /Profile/classic68: 0.6089838655846159\n",
      "Combined Score user /Profile/amk2f: 0.2500481499536973\n",
      "Combined Score user /Profile/George_P74: 0.6089838655846159\n",
      "Combined Score user /Profile/tv_smirnova22: 0.3485730488155001\n",
      "Combined Score user /Profile/_E8722NB: 0.2912199904451641\n",
      "Combined Score user /Profile/_D6120IQ: 0.7529615987069224\n",
      "Combined Score user /Profile/Strannik123: 0.623723393691787\n",
      "Combined Score user /Profile/Natalina24: 0.7535154373567802\n",
      "Combined Score user /Profile/Iris599: 0.4223228963656924\n",
      "Combined Score user /Profile/Aleksey1605: 0.6225750201304904\n",
      "Combined Score user /Profile/AlexA683: 0.8373610607216698\n",
      "Combined Score user /Profile/GalinaAn: 0.5927086665313964\n",
      "Combined Score user /Profile/hamu5586: 0.6234298797634523\n",
      "Combined Score user /Profile/vladimirp44: 0.5642303416957668\n",
      "Combined Score user /Profile/yuliay107: 0.6371660161536521\n",
      "Combined Score user /Profile/nsinyakova: 0.7609711035577497\n",
      "Combined Score user /Profile/MargaritaC252: 0.7539879693420252\n",
      "Combined Score user /Profile/_Q3428LB: 0.7871790890633561\n",
      "Combined Score user /Profile/Helen_0705: 0.33441719459726926\n",
      "Combined Score user /Profile/kirilldu: 0.5871001983970915\n",
      "Combined Score user /Profile/onova2014: 0.7463220282505004\n",
      "Combined Score user /Profile/UlyanaInStars: 0.25644689390359526\n",
      "Combined Score user /Profile/rysalka_2016: 0.7503443003245516\n",
      "Combined Score user /Profile/Melamory2013: 0.254434128195448\n",
      "Combined Score user /Profile/SV194813: 0.9059796898961737\n",
      "Combined Score user /Profile/525alexanderp: 0.8208472769544057\n",
      "Combined Score user /Profile/andrewmU2655XD: 0.8145536942158221\n",
      "Combined Score user /Profile/Alll888: 0.6232499816397425\n",
      "Combined Score user /Profile/_Q6167BB: 0.6385832293359128\n",
      "Combined Score user /Profile/Aleksandr_16: 0.8109792191975179\n",
      "Combined Score user /Profile/Alexey_Ushpalevich: 0.6157281321785907\n",
      "Combined Score user /Profile/_J5616GE: 0.7535188482311184\n",
      "Combined Score user /Profile/gavkun: 0.7472228073154816\n",
      "Combined Score user /Profile/Oimalah: 0.8339758573235361\n",
      "Combined Score user /Profile/Elenochka6309: 0.8831199895878001\n",
      "Combined Score user /Profile/I5485NF_: 0.8133366548312433\n",
      "Combined Score user /Profile/IgorTuristik: 0.8108801092940141\n",
      "Combined Score user /Profile/379garryv: 0.347280617067151\n",
      "Combined Score user /Profile/mpmail: 0.6230121931496152\n",
      "Combined Score user /Profile/Lenok-SB: 0.6173897037119038\n",
      "Combined Score user /Profile/Marina_Tert: 0.7718867399458513\n",
      "Combined Score user /Profile/354andrey: 0.845575640558598\n",
      "Combined Score user /Profile/darya_blinova: 0.7527995257228495\n",
      "Combined Score user /Profile/N3470XS_: 0.7728861318015712\n",
      "Combined Score user /Profile/AlexSebastyan: 0.2890148148456636\n",
      "Combined Score user /Profile/shorik93: 0.8366262390155337\n",
      "Combined Score user /Profile/_V4468ID: 0.8187161379139549\n",
      "Combined Score user /Profile/872elenak: 0.3246612311043802\n",
      "Combined Score user /Profile/lomakins: 0.8203325801824548\n",
      "Combined Score user /Profile/novoskol: 0.6180032388926286\n",
      "Combined Score user /Profile/Rimma2015: 0.6214851025175095\n",
      "Combined Score user /Profile/Maryawandering: 0.834448033428292\n",
      "Combined Score user /Profile/Valeritch: 0.3828879618751271\n",
      "Combined Score user /Profile/bird_tamer: 0.6232847116861957\n",
      "Combined Score user /Profile/ValyaMoscow37: 0.17878762730408906\n",
      "Combined Score user /Profile/689in_ss: 0.8128163525049585\n",
      "Combined Score user /Profile/BrakiWorldTraveler: 0.6225226498790815\n",
      "Combined Score user /Profile/vvav: 0.8295249708088638\n",
      "Combined Score user /Profile/Nata005: 0.6253338620997981\n",
      "Combined Score user /Profile/454luise: 0.7794983248516391\n",
      "Combined Score user /Profile/VladimirAldobaev: 0.2757745910808496\n",
      "Combined Score user /Profile/Vladrocks: 0.7543988830659262\n",
      "Combined Score user /Profile/tinaq_reviews: 0.755360692971426\n",
      "Combined Score user /Profile/spanspan: 0.6384232032134236\n",
      "Combined Score user /Profile/Elenka_12_2013: 0.7546770092549986\n",
      "Combined Score user /Profile/Olga0519237: 0.8681235979085362\n",
      "Combined Score user /Profile/kimnasin: 0.755562894708895\n",
      "Combined Score user /Profile/AlexanderPanda: 0.6533135099058073\n",
      "Combined Score user /Profile/AnnaKornilova1203: 0.6162869067650495\n",
      "Combined Score user /Profile/aniska: 0.8676384375933057\n",
      "Combined Score user /Profile/tripalksmG: 0.8095842909494383\n",
      "Combined Score user /Profile/AnastasiyaStar: 0.8184106465524115\n",
      "Combined Score user /Profile/MrHow: 0.5223314022474255\n",
      "Combined Score user /Profile/yajulia: 0.20631524497453746\n",
      "Combined Score user /Profile/Tapo4chka: 0.8292577270330457\n",
      "Combined Score user /Profile/I9333GEmassimilianop: 0.6223597562273668\n",
      "Combined Score user /Profile/A9518VV_: 0.8272643486869028\n",
      "Combined Score user /Profile/dennisalexandrov1976: 0.8835742069104848\n",
      "Combined Score user /Profile/igorviktorcik: 0.8672006380179728\n",
      "Combined Score user /Profile/_C7575KJ: 0.8210889257244477\n",
      "Combined Score user /Profile/TinaN25: 0.8218981652915247\n",
      "Combined Score user /Profile/Kerik07: 0.6270269331592235\n",
      "Combined Score user /Profile/Nadine_lv: 0.738401832915524\n",
      "Combined Score user /Profile/Franco_R64: 0.622514144812064\n",
      "Combined Score user /Profile/strannik2016: 0.6358584042558661\n",
      "Combined Score user /Profile/5021960: 0.7727940517875886\n",
      "Combined Score user /Profile/121nadyam: 0.7983451556863334\n",
      "Combined Score user /Profile/annasM9618TO: 0.8609019820494057\n",
      "Combined Score user /Profile/foreverfor: 0.8229836436115502\n",
      "Combined Score user /Profile/BukvaED: 0.6316851113399474\n",
      "Combined Score user /Profile/claire_vin: 0.3295883062214425\n",
      "Combined Score user /Profile/Olya_OlgaY: 0.6272452142010942\n",
      "Combined Score user /Profile/VladRyshkus: 0.347906726013041\n",
      "Combined Score user /Profile/Nilss88: 0.748952309574146\n",
      "Combined Score user /Profile/mishievaoi: 0.8914680646028189\n",
      "Combined Score user /Profile/KGB777: 0.6226733792493311\n",
      "Combined Score user /Profile/742ivanr: 0.7030447700929837\n",
      "Combined Score user /Profile/Vladislav2002: 0.7794856895789932\n",
      "Combined Score user /Profile/michaelmP9679DF: 0.4381475305419057\n",
      "Combined Score user /Profile/W4473QA_: 0.622621797932194\n",
      "Combined Score user /Profile/Iisusha84: 0.8200881746647684\n",
      "Combined Score user /Profile/VadimM67: 0.8143345603311594\n",
      "Combined Score user /Profile/_566_13: 0.18102053959966946\n",
      "Combined Score user /Profile/utro-vecher: 0.8524019434340099\n",
      "Combined Score user /Profile/BESTMUHAMMAD: 0.838183306782044\n",
      "Combined Score user /Profile/Lara200655: 0.7677160158660267\n",
      "Combined Score user /Profile/Mikhail211: 0.6812047424974862\n",
      "Combined Score user /Profile/Podstrelova: 0.35609167415841214\n",
      "Combined Score user /Profile/yavsevremyaem: 0.37945306264023504\n",
      "Combined Score user /Profile/_DenisK_001: 0.6118682406500149\n",
      "Combined Score user /Profile/NLB-Artem: 0.8390683764012629\n",
      "Combined Score user /Profile/jlabusova: 0.21404439914569015\n",
      "Combined Score user /Profile/Irondune: 0.7962992934076345\n",
      "Combined Score user /Profile/MiAlAnis: 0.6578908816863629\n",
      "Combined Score user /Profile/RufinaK: 0.8196588457414021\n",
      "Combined Score user /Profile/panas2009: 0.77159309201411\n",
      "Combined Score user /Profile/Nafanya-l: 0.781671993104318\n",
      "Combined Score user /Profile/EfremovaER: 0.8107800186405585\n",
      "Combined Score user /Profile/Baron_de_Richebourg: 0.7909156768077164\n",
      "Combined Score user /Profile/Andrey-Nyk: 0.6366384114157304\n",
      "Combined Score user /Profile/MDKTX: 0.7050002321095546\n",
      "Combined Score user /Profile/alexey2612: 0.7537478243095274\n",
      "Combined Score user /Profile/_X8676UO: 0.6213723229009119\n",
      "Combined Score user /Profile/81maximt: 0.7740265672129208\n",
      "Combined Score user /Profile/forpix: 0.8890915204903972\n",
      "Combined Score user /Profile/filby_katastrofa: 0.6233524784433009\n",
      "Combined Score user /Profile/javierdelgadocastela: 0.807909941858507\n",
      "Combined Score user /Profile/olchiko131: 0.1398919430222972\n",
      "Combined Score user /Profile/AlesyaPL: 0.3014107284368715\n",
      "Combined Score user /Profile/jitsiri: 0.6241309267823193\n",
      "Combined Score user /Profile/Manahov: 0.747918731984057\n",
      "Combined Score user /Profile/NOLEGS1987: 0.2793569420608144\n",
      "Combined Score user /Profile/deciofer80: 0.622493080631592\n",
      "Combined Score user /Profile/C7309GD_: 0.15365901493959516\n",
      "Combined Score user /Profile/_U4356TS: 0.2888989966164855\n",
      "Combined Score user /Profile/Natalia16b: 0.8674903157648044\n",
      "Combined Score user /Profile/geranulis: 0.8315743822099756\n"
     ]
    }
   ],
   "source": [
    "gnn_score = {}\n",
    "cnt_empty = 0\n",
    "\n",
    "for user, ids in data_gnn.items():\n",
    "    if not ids:\n",
    "        cnt_empty += 1\n",
    "        continue\n",
    "    visited_features = items[items['detail_id'].isin(ids)] \n",
    "    true_ids = reviews_test_true_dict[user]\n",
    "\n",
    "    score = combined_score(ids, true_ids, items, alpha=0.7, beta=0.3, visited_features=visited_features)\n",
    "    print(f\"Combined Score user {user}: {score}\")\n",
    "    gnn_score[user] = score"
   ]
  },
  {
   "cell_type": "code",
   "execution_count": 117,
   "metadata": {},
   "outputs": [
    {
     "name": "stdout",
     "output_type": "stream",
     "text": [
      "130.7615962836916\n",
      "199\n"
     ]
    },
    {
     "data": {
      "text/plain": [
       "0.6604121024428868"
      ]
     },
     "execution_count": 117,
     "metadata": {},
     "output_type": "execute_result"
    }
   ],
   "source": [
    "gnn_score_ans = float(calculate_average(gnn_score, cnt_empty))\n",
    "gnn_score_ans"
   ]
  },
  {
   "cell_type": "code",
   "execution_count": 118,
   "metadata": {},
   "outputs": [],
   "source": [
    "# функция для подсчета скора\n",
    "def calculate_average_for_file(file_path, items, reviews_test_true_dict, alpha=0.7, beta=0.3):\n",
    "    def calculate_average(data, cnt_empty):\n",
    "        total = sum(data.values())\n",
    "        return total / (len(data) - cnt_empty) if len(data) + cnt_empty > 0 else 0\n",
    "    \n",
    "    with open(file_path, 'r', encoding='utf-8') as file:\n",
    "        data = json.load(file)\n",
    "\n",
    "    scores = {}\n",
    "    cnt_empty = 0\n",
    "\n",
    "    for user, ids in data.items():\n",
    "        if not ids:\n",
    "            cnt_empty += 1\n",
    "            continue\n",
    "        \n",
    "        visited_features = items[items['detail_id'].isin(ids)]\n",
    "        true_ids = reviews_test_true_dict[user]\n",
    "\n",
    "        score = combined_score(ids, true_ids, items, alpha, beta, visited_features=visited_features)\n",
    "        scores[user] = score\n",
    "\n",
    "    score = float(calculate_average(scores, cnt_empty))\n",
    "    return score"
   ]
  },
  {
   "cell_type": "code",
   "execution_count": 119,
   "metadata": {},
   "outputs": [
    {
     "data": {
      "text/plain": [
       "0.6604121024428868"
      ]
     },
     "execution_count": 119,
     "metadata": {},
     "output_type": "execute_result"
    }
   ],
   "source": [
    "gnn_score_result = calculate_average_for_file(\"recommendations_gnn.json\", items, reviews_test_true_dict)\n",
    "gnn_score_result"
   ]
  },
  {
   "cell_type": "markdown",
   "metadata": {},
   "source": [
    "### Recommend route"
   ]
  },
  {
   "cell_type": "code",
   "execution_count": 120,
   "metadata": {},
   "outputs": [
    {
     "data": {
      "text/plain": [
       "0.45518962830508114"
      ]
     },
     "execution_count": 120,
     "metadata": {},
     "output_type": "execute_result"
    }
   ],
   "source": [
    "rec_route_score_result = calculate_average_for_file(\"recommendations_rec_route.json\", items, reviews_test_true_dict)\n",
    "rec_route_score_result"
   ]
  },
  {
   "cell_type": "markdown",
   "metadata": {},
   "source": [
    "### PageRank"
   ]
  },
  {
   "cell_type": "code",
   "execution_count": 121,
   "metadata": {},
   "outputs": [
    {
     "data": {
      "text/plain": [
       "0.48614285986819117"
      ]
     },
     "execution_count": 121,
     "metadata": {},
     "output_type": "execute_result"
    }
   ],
   "source": [
    "pagerank_score_result = calculate_average_for_file(\"recommendations_pagerank.json\", items, reviews_test_true_dict)\n",
    "pagerank_score_result"
   ]
  },
  {
   "cell_type": "markdown",
   "metadata": {},
   "source": [
    "### Use tags"
   ]
  },
  {
   "cell_type": "code",
   "execution_count": 122,
   "metadata": {},
   "outputs": [
    {
     "data": {
      "text/plain": [
       "0.5016859527694396"
      ]
     },
     "execution_count": 122,
     "metadata": {},
     "output_type": "execute_result"
    }
   ],
   "source": [
    "use_tags_score_result = calculate_average_for_file(\"use_tags.json\", items, reviews_test_true_dict)\n",
    "use_tags_score_result"
   ]
  },
  {
   "cell_type": "markdown",
   "metadata": {},
   "source": [
    "### Similar users"
   ]
  },
  {
   "cell_type": "code",
   "execution_count": 123,
   "metadata": {},
   "outputs": [
    {
     "data": {
      "text/plain": [
       "0.6424820024904798"
      ]
     },
     "execution_count": 123,
     "metadata": {},
     "output_type": "execute_result"
    }
   ],
   "source": [
    "similar_users_score_result = calculate_average_for_file(\"similar_users.json\", items, reviews_test_true_dict)\n",
    "similar_users_score_result"
   ]
  },
  {
   "cell_type": "markdown",
   "metadata": {},
   "source": [
    "### User similarity graph"
   ]
  },
  {
   "cell_type": "code",
   "execution_count": 124,
   "metadata": {},
   "outputs": [
    {
     "data": {
      "text/plain": [
       "0.6279265370349887"
      ]
     },
     "execution_count": 124,
     "metadata": {},
     "output_type": "execute_result"
    }
   ],
   "source": [
    "graph_recommendation_score_result = calculate_average_for_file(\"graph_similar_users.json\", items, reviews_test_true_dict)\n",
    "graph_recommendation_score_result"
   ]
  },
  {
   "cell_type": "markdown",
   "metadata": {},
   "source": [
    "### Graph recommendations"
   ]
  },
  {
   "cell_type": "code",
   "execution_count": 125,
   "metadata": {},
   "outputs": [
    {
     "data": {
      "text/plain": [
       "0.31230176905506263"
      ]
     },
     "execution_count": 125,
     "metadata": {},
     "output_type": "execute_result"
    }
   ],
   "source": [
    "graph_recommendations__score_result = calculate_average_for_file(\"graph_recommendations_.json\", items, reviews_test_true_dict)\n",
    "graph_recommendations__score_result"
   ]
  },
  {
   "cell_type": "markdown",
   "metadata": {},
   "source": [
    "### Random walk"
   ]
  },
  {
   "cell_type": "code",
   "execution_count": 126,
   "metadata": {},
   "outputs": [
    {
     "data": {
      "text/plain": [
       "0.45702689076230774"
      ]
     },
     "execution_count": 126,
     "metadata": {},
     "output_type": "execute_result"
    }
   ],
   "source": [
    "random_walk_recommendations_score_result = calculate_average_for_file(\"random_walk_recommendations.json\", items, reviews_test_true_dict)\n",
    "random_walk_recommendations_score_result"
   ]
  },
  {
   "cell_type": "markdown",
   "metadata": {},
   "source": [
    "### Lasso predict rating"
   ]
  },
  {
   "cell_type": "code",
   "execution_count": 128,
   "metadata": {},
   "outputs": [
    {
     "data": {
      "text/plain": [
       "0.6237266764944386"
      ]
     },
     "execution_count": 128,
     "metadata": {},
     "output_type": "execute_result"
    }
   ],
   "source": [
    "lasso_recommendations_score_result = calculate_average_for_file(\"lasso_recommendations.json\", items, reviews_test_true_dict)\n",
    "lasso_recommendations_score_result "
   ]
  },
  {
   "cell_type": "markdown",
   "metadata": {},
   "source": [
    "### LightGCN"
   ]
  },
  {
   "cell_type": "code",
   "execution_count": 129,
   "metadata": {},
   "outputs": [
    {
     "data": {
      "text/plain": [
       "0.642603021681348"
      ]
     },
     "execution_count": 129,
     "metadata": {},
     "output_type": "execute_result"
    }
   ],
   "source": [
    "lightgcn_score_result = calculate_average_for_file(\"recommendations_lightgcn_1.json\", items, reviews_test_true_dict)\n",
    "lightgcn_score_result "
   ]
  },
  {
   "cell_type": "markdown",
   "metadata": {},
   "source": [
    "### Lasso"
   ]
  },
  {
   "cell_type": "code",
   "execution_count": 131,
   "metadata": {},
   "outputs": [
    {
     "data": {
      "text/plain": [
       "0.640264098591127"
      ]
     },
     "execution_count": 131,
     "metadata": {},
     "output_type": "execute_result"
    }
   ],
   "source": [
    "lasso_20_score_result = calculate_average_for_file(\"20_lasso.json\", items, reviews_test_true_dict)\n",
    "lasso_20_score_result "
   ]
  }
 ],
 "metadata": {
  "kernelspec": {
   "display_name": "venv3.11",
   "language": "python",
   "name": "python3"
  },
  "language_info": {
   "codemirror_mode": {
    "name": "ipython",
    "version": 3
   },
   "file_extension": ".py",
   "mimetype": "text/x-python",
   "name": "python",
   "nbconvert_exporter": "python",
   "pygments_lexer": "ipython3",
   "version": "3.11.10"
  }
 },
 "nbformat": 4,
 "nbformat_minor": 2
}
